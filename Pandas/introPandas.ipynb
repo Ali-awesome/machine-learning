{
 "cells": [
  {
   "attachments": {},
   "cell_type": "markdown",
   "metadata": {},
   "source": [
    "## Intro to Pandas\n",
    "Pandas is used for Data Analysis. It has functions to analyze, clean, explore and manipulate data.\n",
    "[source_code](https://github.com/pandas-dev/pandas)"
   ]
  },
  {
   "cell_type": "code",
   "execution_count": 2,
   "metadata": {},
   "outputs": [],
   "source": [
    "# Importing and giving alias\n",
    "import numpy as np\n",
    "import pandas as pd"
   ]
  },
  {
   "attachments": {},
   "cell_type": "markdown",
   "metadata": {},
   "source": [
    "### DataFrames\n",
    "Two ways to create datasets in pandas"
   ]
  },
  {
   "cell_type": "code",
   "execution_count": 3,
   "metadata": {},
   "outputs": [],
   "source": [
    "data = [\n",
    "    ['Nissan', 'Stanza', 1991, 138, 4, 'MANUAL', 'sedan', 2000],\n",
    "    ['Hyundai', 'Sonata', 2017, None, 4, 'AUTOMATIC', 'Sedan', 27150],\n",
    "    ['Lotus', 'Elise', 2010, 218, 4, 'MANUAL', 'convertible', 54990],\n",
    "    ['GMC', 'Acadia',  2017, 194, 4, 'AUTOMATIC', '4dr SUV', 34450],\n",
    "    ['Nissan', 'Frontier', 2017, 261, 6, 'MANUAL', 'Pickup', 32340],\n",
    "]\n",
    "\n",
    "columns = [\n",
    "    'Make', 'Model', 'Year', 'Engine HP', 'Engine Cylinders',\n",
    "    'Transmission Type', 'Vehicle_Style', 'MSRP'\n",
    "]"
   ]
  },
  {
   "cell_type": "code",
   "execution_count": 4,
   "metadata": {},
   "outputs": [
    {
     "data": {
      "text/html": [
       "<div>\n",
       "<style scoped>\n",
       "    .dataframe tbody tr th:only-of-type {\n",
       "        vertical-align: middle;\n",
       "    }\n",
       "\n",
       "    .dataframe tbody tr th {\n",
       "        vertical-align: top;\n",
       "    }\n",
       "\n",
       "    .dataframe thead th {\n",
       "        text-align: right;\n",
       "    }\n",
       "</style>\n",
       "<table border=\"1\" class=\"dataframe\">\n",
       "  <thead>\n",
       "    <tr style=\"text-align: right;\">\n",
       "      <th></th>\n",
       "      <th>Make</th>\n",
       "      <th>Model</th>\n",
       "      <th>Year</th>\n",
       "      <th>Engine HP</th>\n",
       "      <th>Engine Cylinders</th>\n",
       "      <th>Transmission Type</th>\n",
       "      <th>Vehicle_Style</th>\n",
       "      <th>MSRP</th>\n",
       "    </tr>\n",
       "  </thead>\n",
       "  <tbody>\n",
       "    <tr>\n",
       "      <th>0</th>\n",
       "      <td>Nissan</td>\n",
       "      <td>Stanza</td>\n",
       "      <td>1991</td>\n",
       "      <td>138.0</td>\n",
       "      <td>4</td>\n",
       "      <td>MANUAL</td>\n",
       "      <td>sedan</td>\n",
       "      <td>2000</td>\n",
       "    </tr>\n",
       "    <tr>\n",
       "      <th>1</th>\n",
       "      <td>Hyundai</td>\n",
       "      <td>Sonata</td>\n",
       "      <td>2017</td>\n",
       "      <td>NaN</td>\n",
       "      <td>4</td>\n",
       "      <td>AUTOMATIC</td>\n",
       "      <td>Sedan</td>\n",
       "      <td>27150</td>\n",
       "    </tr>\n",
       "    <tr>\n",
       "      <th>2</th>\n",
       "      <td>Lotus</td>\n",
       "      <td>Elise</td>\n",
       "      <td>2010</td>\n",
       "      <td>218.0</td>\n",
       "      <td>4</td>\n",
       "      <td>MANUAL</td>\n",
       "      <td>convertible</td>\n",
       "      <td>54990</td>\n",
       "    </tr>\n",
       "    <tr>\n",
       "      <th>3</th>\n",
       "      <td>GMC</td>\n",
       "      <td>Acadia</td>\n",
       "      <td>2017</td>\n",
       "      <td>194.0</td>\n",
       "      <td>4</td>\n",
       "      <td>AUTOMATIC</td>\n",
       "      <td>4dr SUV</td>\n",
       "      <td>34450</td>\n",
       "    </tr>\n",
       "    <tr>\n",
       "      <th>4</th>\n",
       "      <td>Nissan</td>\n",
       "      <td>Frontier</td>\n",
       "      <td>2017</td>\n",
       "      <td>261.0</td>\n",
       "      <td>6</td>\n",
       "      <td>MANUAL</td>\n",
       "      <td>Pickup</td>\n",
       "      <td>32340</td>\n",
       "    </tr>\n",
       "  </tbody>\n",
       "</table>\n",
       "</div>"
      ],
      "text/plain": [
       "      Make     Model  Year  Engine HP  Engine Cylinders Transmission Type  \\\n",
       "0   Nissan    Stanza  1991      138.0                 4            MANUAL   \n",
       "1  Hyundai    Sonata  2017        NaN                 4         AUTOMATIC   \n",
       "2    Lotus     Elise  2010      218.0                 4            MANUAL   \n",
       "3      GMC    Acadia  2017      194.0                 4         AUTOMATIC   \n",
       "4   Nissan  Frontier  2017      261.0                 6            MANUAL   \n",
       "\n",
       "  Vehicle_Style   MSRP  \n",
       "0         sedan   2000  \n",
       "1         Sedan  27150  \n",
       "2   convertible  54990  \n",
       "3       4dr SUV  34450  \n",
       "4        Pickup  32340  "
      ]
     },
     "execution_count": 4,
     "metadata": {},
     "output_type": "execute_result"
    }
   ],
   "source": [
    "df1 = pd.DataFrame(data, columns=columns)\n",
    "df1"
   ]
  },
  {
   "cell_type": "code",
   "execution_count": 5,
   "metadata": {},
   "outputs": [],
   "source": [
    "data = [\n",
    "    {\n",
    "        \"Make\": \"Nissan\",\n",
    "        \"Model\": \"Stanza\",\n",
    "        \"Year\": 1991,\n",
    "        \"Engine HP\": 138.0,\n",
    "        \"Engine Cylinders\": 4,\n",
    "        \"Transmission Type\": \"MANUAL\",\n",
    "        \"Vehicle_Style\": \"sedan\",\n",
    "        \"MSRP\": 2000\n",
    "    },\n",
    "    {\n",
    "        \"Make\": \"Hyundai\",\n",
    "        \"Model\": \"Sonata\",\n",
    "        \"Year\": 2017,\n",
    "        \"Engine HP\": None,\n",
    "        \"Engine Cylinders\": 4,\n",
    "        \"Transmission Type\": \"AUTOMATIC\",\n",
    "        \"Vehicle_Style\": \"Sedan\",\n",
    "        \"MSRP\": 27150\n",
    "    },\n",
    "    {\n",
    "        \"Make\": \"Lotus\",\n",
    "        \"Model\": \"Elise\",\n",
    "        \"Year\": 2010,\n",
    "        \"Engine HP\": 218.0,\n",
    "        \"Engine Cylinders\": 4,\n",
    "        \"Transmission Type\": \"MANUAL\",\n",
    "        \"Vehicle_Style\": \"convertible\",\n",
    "        \"MSRP\": 54990\n",
    "    },\n",
    "    {\n",
    "        \"Make\": \"GMC\",\n",
    "        \"Model\": \"Acadia\",\n",
    "        \"Year\": 2017,\n",
    "        \"Engine HP\": 194.0,\n",
    "        \"Engine Cylinders\": 4,\n",
    "        \"Transmission Type\": \"AUTOMATIC\",\n",
    "        \"Vehicle_Style\": \"4dr SUV\",\n",
    "        \"MSRP\": 34450\n",
    "    },\n",
    "    {\n",
    "        \"Make\": \"Nissan\",\n",
    "        \"Model\": \"Frontier\",\n",
    "        \"Year\": 2017,\n",
    "        \"Engine HP\": 261.0,\n",
    "        \"Engine Cylinders\": 6,\n",
    "        \"Transmission Type\": \"MANUAL\",\n",
    "        \"Vehicle_Style\": \"Pickup\",\n",
    "        \"MSRP\": 32340\n",
    "    }\n",
    "]"
   ]
  },
  {
   "cell_type": "code",
   "execution_count": 6,
   "metadata": {},
   "outputs": [
    {
     "data": {
      "text/html": [
       "<div>\n",
       "<style scoped>\n",
       "    .dataframe tbody tr th:only-of-type {\n",
       "        vertical-align: middle;\n",
       "    }\n",
       "\n",
       "    .dataframe tbody tr th {\n",
       "        vertical-align: top;\n",
       "    }\n",
       "\n",
       "    .dataframe thead th {\n",
       "        text-align: right;\n",
       "    }\n",
       "</style>\n",
       "<table border=\"1\" class=\"dataframe\">\n",
       "  <thead>\n",
       "    <tr style=\"text-align: right;\">\n",
       "      <th></th>\n",
       "      <th>Make</th>\n",
       "      <th>Model</th>\n",
       "      <th>Year</th>\n",
       "      <th>Engine HP</th>\n",
       "      <th>Engine Cylinders</th>\n",
       "      <th>Transmission Type</th>\n",
       "      <th>Vehicle_Style</th>\n",
       "      <th>MSRP</th>\n",
       "    </tr>\n",
       "  </thead>\n",
       "  <tbody>\n",
       "    <tr>\n",
       "      <th>0</th>\n",
       "      <td>Nissan</td>\n",
       "      <td>Stanza</td>\n",
       "      <td>1991</td>\n",
       "      <td>138.0</td>\n",
       "      <td>4</td>\n",
       "      <td>MANUAL</td>\n",
       "      <td>sedan</td>\n",
       "      <td>2000</td>\n",
       "    </tr>\n",
       "    <tr>\n",
       "      <th>1</th>\n",
       "      <td>Hyundai</td>\n",
       "      <td>Sonata</td>\n",
       "      <td>2017</td>\n",
       "      <td>NaN</td>\n",
       "      <td>4</td>\n",
       "      <td>AUTOMATIC</td>\n",
       "      <td>Sedan</td>\n",
       "      <td>27150</td>\n",
       "    </tr>\n",
       "    <tr>\n",
       "      <th>2</th>\n",
       "      <td>Lotus</td>\n",
       "      <td>Elise</td>\n",
       "      <td>2010</td>\n",
       "      <td>218.0</td>\n",
       "      <td>4</td>\n",
       "      <td>MANUAL</td>\n",
       "      <td>convertible</td>\n",
       "      <td>54990</td>\n",
       "    </tr>\n",
       "    <tr>\n",
       "      <th>3</th>\n",
       "      <td>GMC</td>\n",
       "      <td>Acadia</td>\n",
       "      <td>2017</td>\n",
       "      <td>194.0</td>\n",
       "      <td>4</td>\n",
       "      <td>AUTOMATIC</td>\n",
       "      <td>4dr SUV</td>\n",
       "      <td>34450</td>\n",
       "    </tr>\n",
       "    <tr>\n",
       "      <th>4</th>\n",
       "      <td>Nissan</td>\n",
       "      <td>Frontier</td>\n",
       "      <td>2017</td>\n",
       "      <td>261.0</td>\n",
       "      <td>6</td>\n",
       "      <td>MANUAL</td>\n",
       "      <td>Pickup</td>\n",
       "      <td>32340</td>\n",
       "    </tr>\n",
       "  </tbody>\n",
       "</table>\n",
       "</div>"
      ],
      "text/plain": [
       "      Make     Model  Year  Engine HP  Engine Cylinders Transmission Type  \\\n",
       "0   Nissan    Stanza  1991      138.0                 4            MANUAL   \n",
       "1  Hyundai    Sonata  2017        NaN                 4         AUTOMATIC   \n",
       "2    Lotus     Elise  2010      218.0                 4            MANUAL   \n",
       "3      GMC    Acadia  2017      194.0                 4         AUTOMATIC   \n",
       "4   Nissan  Frontier  2017      261.0                 6            MANUAL   \n",
       "\n",
       "  Vehicle_Style   MSRP  \n",
       "0         sedan   2000  \n",
       "1         Sedan  27150  \n",
       "2   convertible  54990  \n",
       "3       4dr SUV  34450  \n",
       "4        Pickup  32340  "
      ]
     },
     "execution_count": 6,
     "metadata": {},
     "output_type": "execute_result"
    }
   ],
   "source": [
    "df2 = pd.DataFrame(data)\n",
    "df2"
   ]
  },
  {
   "cell_type": "code",
   "execution_count": 8,
   "metadata": {},
   "outputs": [
    {
     "data": {
      "text/html": [
       "<div>\n",
       "<style scoped>\n",
       "    .dataframe tbody tr th:only-of-type {\n",
       "        vertical-align: middle;\n",
       "    }\n",
       "\n",
       "    .dataframe tbody tr th {\n",
       "        vertical-align: top;\n",
       "    }\n",
       "\n",
       "    .dataframe thead th {\n",
       "        text-align: right;\n",
       "    }\n",
       "</style>\n",
       "<table border=\"1\" class=\"dataframe\">\n",
       "  <thead>\n",
       "    <tr style=\"text-align: right;\">\n",
       "      <th></th>\n",
       "      <th>Make</th>\n",
       "      <th>Model</th>\n",
       "      <th>Year</th>\n",
       "      <th>Engine HP</th>\n",
       "      <th>Engine Cylinders</th>\n",
       "      <th>Transmission Type</th>\n",
       "      <th>Vehicle_Style</th>\n",
       "      <th>MSRP</th>\n",
       "    </tr>\n",
       "  </thead>\n",
       "  <tbody>\n",
       "    <tr>\n",
       "      <th>0</th>\n",
       "      <td>Nissan</td>\n",
       "      <td>Stanza</td>\n",
       "      <td>1991</td>\n",
       "      <td>138.0</td>\n",
       "      <td>4</td>\n",
       "      <td>MANUAL</td>\n",
       "      <td>sedan</td>\n",
       "      <td>2000</td>\n",
       "    </tr>\n",
       "    <tr>\n",
       "      <th>1</th>\n",
       "      <td>Hyundai</td>\n",
       "      <td>Sonata</td>\n",
       "      <td>2017</td>\n",
       "      <td>NaN</td>\n",
       "      <td>4</td>\n",
       "      <td>AUTOMATIC</td>\n",
       "      <td>Sedan</td>\n",
       "      <td>27150</td>\n",
       "    </tr>\n",
       "  </tbody>\n",
       "</table>\n",
       "</div>"
      ],
      "text/plain": [
       "      Make   Model  Year  Engine HP  Engine Cylinders Transmission Type  \\\n",
       "0   Nissan  Stanza  1991      138.0                 4            MANUAL   \n",
       "1  Hyundai  Sonata  2017        NaN                 4         AUTOMATIC   \n",
       "\n",
       "  Vehicle_Style   MSRP  \n",
       "0         sedan   2000  \n",
       "1         Sedan  27150  "
      ]
     },
     "execution_count": 8,
     "metadata": {},
     "output_type": "execute_result"
    }
   ],
   "source": [
    "df2.head(n=2)#Giving n value is the value of rows to be shown."
   ]
  },
  {
   "attachments": {},
   "cell_type": "markdown",
   "metadata": {},
   "source": [
    "### Pandas Series\n",
    "A Pandas Series is like a column in a table. It is a one-dimensional array holding data of any type.\n",
    "\n",
    "Columns in a data frame - series. To access it, use dot or brackets\n"
   ]
  },
  {
   "cell_type": "code",
   "execution_count": 9,
   "metadata": {},
   "outputs": [
    {
     "name": "stdout",
     "output_type": "stream",
     "text": [
      "0    1\n",
      "1    7\n",
      "2    2\n",
      "dtype: int64\n",
      "x    1\n",
      "y    7\n",
      "z    2\n",
      "dtype: int64\n",
      "7\n",
      "day1    420\n",
      "day2    380\n",
      "day3    390\n",
      "dtype: int64\n"
     ]
    }
   ],
   "source": [
    "a = [1, 7, 2]\n",
    "myvar1 = pd.Series(a)\n",
    "print(myvar1)\n",
    "myvar2 = pd.Series(a, index = [\"x\", \"y\", \"z\"])#If nothing else is specified, the values are labeled with their index number. First value has index 0, second value has index 1 etc.\n",
    "print(myvar2)\n",
    "print(myvar2[\"y\"])# Returning a specific value of specified index\n",
    "calories = {\"day1\": 420, \"day2\": 380, \"day3\": 390}\n",
    "myvar3 = pd.Series(calories)\n",
    "print(myvar3)"
   ]
  },
  {
   "cell_type": "code",
   "execution_count": 12,
   "metadata": {},
   "outputs": [
    {
     "name": "stdout",
     "output_type": "stream",
     "text": [
      "0     Nissan\n",
      "1    Hyundai\n",
      "2      Lotus\n",
      "3        GMC\n",
      "4     Nissan\n",
      "Name: Make, dtype: object\n",
      "0     Nissan\n",
      "1    Hyundai\n",
      "2      Lotus\n",
      "3        GMC\n",
      "4     Nissan\n",
      "Name: Make, dtype: object\n",
      "      Make     Model   MSRP\n",
      "0   Nissan    Stanza   2000\n",
      "1  Hyundai    Sonata  27150\n",
      "2    Lotus     Elise  54990\n",
      "3      GMC    Acadia  34450\n",
      "4   Nissan  Frontier  32340\n"
     ]
    },
    {
     "ename": "KeyError",
     "evalue": "('Make', 'Model', 'MSRP')",
     "output_type": "error",
     "traceback": [
      "\u001b[1;31m---------------------------------------------------------------------------\u001b[0m",
      "\u001b[1;31mKeyError\u001b[0m                                  Traceback (most recent call last)",
      "\u001b[1;32me:\\app\\Python\\lib\\site-packages\\pandas\\core\\indexes\\base.py\u001b[0m in \u001b[0;36mget_loc\u001b[1;34m(self, key, method, tolerance)\u001b[0m\n\u001b[0;32m   3360\u001b[0m             \u001b[1;32mtry\u001b[0m\u001b[1;33m:\u001b[0m\u001b[1;33m\u001b[0m\u001b[1;33m\u001b[0m\u001b[0m\n\u001b[1;32m-> 3361\u001b[1;33m                 \u001b[1;32mreturn\u001b[0m \u001b[0mself\u001b[0m\u001b[1;33m.\u001b[0m\u001b[0m_engine\u001b[0m\u001b[1;33m.\u001b[0m\u001b[0mget_loc\u001b[0m\u001b[1;33m(\u001b[0m\u001b[0mcasted_key\u001b[0m\u001b[1;33m)\u001b[0m\u001b[1;33m\u001b[0m\u001b[1;33m\u001b[0m\u001b[0m\n\u001b[0m\u001b[0;32m   3362\u001b[0m             \u001b[1;32mexcept\u001b[0m \u001b[0mKeyError\u001b[0m \u001b[1;32mas\u001b[0m \u001b[0merr\u001b[0m\u001b[1;33m:\u001b[0m\u001b[1;33m\u001b[0m\u001b[1;33m\u001b[0m\u001b[0m\n",
      "\u001b[1;32me:\\app\\Python\\lib\\site-packages\\pandas\\_libs\\index.pyx\u001b[0m in \u001b[0;36mpandas._libs.index.IndexEngine.get_loc\u001b[1;34m()\u001b[0m\n",
      "\u001b[1;32me:\\app\\Python\\lib\\site-packages\\pandas\\_libs\\index.pyx\u001b[0m in \u001b[0;36mpandas._libs.index.IndexEngine.get_loc\u001b[1;34m()\u001b[0m\n",
      "\u001b[1;32mpandas\\_libs\\hashtable_class_helper.pxi\u001b[0m in \u001b[0;36mpandas._libs.hashtable.PyObjectHashTable.get_item\u001b[1;34m()\u001b[0m\n",
      "\u001b[1;32mpandas\\_libs\\hashtable_class_helper.pxi\u001b[0m in \u001b[0;36mpandas._libs.hashtable.PyObjectHashTable.get_item\u001b[1;34m()\u001b[0m\n",
      "\u001b[1;31mKeyError\u001b[0m: ('Make', 'Model', 'MSRP')",
      "\nThe above exception was the direct cause of the following exception:\n",
      "\u001b[1;31mKeyError\u001b[0m                                  Traceback (most recent call last)",
      "\u001b[1;32m~\\AppData\\Local\\Temp\\ipykernel_9132\\69912071.py\u001b[0m in \u001b[0;36m<module>\u001b[1;34m\u001b[0m\n\u001b[0;32m      2\u001b[0m \u001b[0mprint\u001b[0m\u001b[1;33m(\u001b[0m\u001b[0mdf2\u001b[0m\u001b[1;33m[\u001b[0m\u001b[1;34m\"Make\"\u001b[0m\u001b[1;33m]\u001b[0m\u001b[1;33m)\u001b[0m\u001b[1;33m\u001b[0m\u001b[1;33m\u001b[0m\u001b[0m\n\u001b[0;32m      3\u001b[0m \u001b[0mprint\u001b[0m\u001b[1;33m(\u001b[0m\u001b[0mdf2\u001b[0m\u001b[1;33m[\u001b[0m\u001b[1;33m[\u001b[0m\u001b[1;34m\"Make\"\u001b[0m\u001b[1;33m,\u001b[0m\u001b[1;34m\"Model\"\u001b[0m\u001b[1;33m,\u001b[0m \u001b[1;34m\"MSRP\"\u001b[0m\u001b[1;33m]\u001b[0m\u001b[1;33m]\u001b[0m\u001b[1;33m)\u001b[0m\u001b[1;33m\u001b[0m\u001b[1;33m\u001b[0m\u001b[0m\n\u001b[1;32m----> 4\u001b[1;33m \u001b[0mprint\u001b[0m\u001b[1;33m(\u001b[0m\u001b[0mdf2\u001b[0m\u001b[1;33m[\u001b[0m\u001b[1;34m\"Make\"\u001b[0m\u001b[1;33m,\u001b[0m\u001b[1;34m\"Model\"\u001b[0m\u001b[1;33m,\u001b[0m \u001b[1;34m\"MSRP\"\u001b[0m\u001b[1;33m]\u001b[0m\u001b[1;33m)\u001b[0m\u001b[1;33m\u001b[0m\u001b[1;33m\u001b[0m\u001b[0m\n\u001b[0m",
      "\u001b[1;32me:\\app\\Python\\lib\\site-packages\\pandas\\core\\frame.py\u001b[0m in \u001b[0;36m__getitem__\u001b[1;34m(self, key)\u001b[0m\n\u001b[0;32m   3456\u001b[0m             \u001b[1;32mif\u001b[0m \u001b[0mself\u001b[0m\u001b[1;33m.\u001b[0m\u001b[0mcolumns\u001b[0m\u001b[1;33m.\u001b[0m\u001b[0mnlevels\u001b[0m \u001b[1;33m>\u001b[0m \u001b[1;36m1\u001b[0m\u001b[1;33m:\u001b[0m\u001b[1;33m\u001b[0m\u001b[1;33m\u001b[0m\u001b[0m\n\u001b[0;32m   3457\u001b[0m                 \u001b[1;32mreturn\u001b[0m \u001b[0mself\u001b[0m\u001b[1;33m.\u001b[0m\u001b[0m_getitem_multilevel\u001b[0m\u001b[1;33m(\u001b[0m\u001b[0mkey\u001b[0m\u001b[1;33m)\u001b[0m\u001b[1;33m\u001b[0m\u001b[1;33m\u001b[0m\u001b[0m\n\u001b[1;32m-> 3458\u001b[1;33m             \u001b[0mindexer\u001b[0m \u001b[1;33m=\u001b[0m \u001b[0mself\u001b[0m\u001b[1;33m.\u001b[0m\u001b[0mcolumns\u001b[0m\u001b[1;33m.\u001b[0m\u001b[0mget_loc\u001b[0m\u001b[1;33m(\u001b[0m\u001b[0mkey\u001b[0m\u001b[1;33m)\u001b[0m\u001b[1;33m\u001b[0m\u001b[1;33m\u001b[0m\u001b[0m\n\u001b[0m\u001b[0;32m   3459\u001b[0m             \u001b[1;32mif\u001b[0m \u001b[0mis_integer\u001b[0m\u001b[1;33m(\u001b[0m\u001b[0mindexer\u001b[0m\u001b[1;33m)\u001b[0m\u001b[1;33m:\u001b[0m\u001b[1;33m\u001b[0m\u001b[1;33m\u001b[0m\u001b[0m\n\u001b[0;32m   3460\u001b[0m                 \u001b[0mindexer\u001b[0m \u001b[1;33m=\u001b[0m \u001b[1;33m[\u001b[0m\u001b[0mindexer\u001b[0m\u001b[1;33m]\u001b[0m\u001b[1;33m\u001b[0m\u001b[1;33m\u001b[0m\u001b[0m\n",
      "\u001b[1;32me:\\app\\Python\\lib\\site-packages\\pandas\\core\\indexes\\base.py\u001b[0m in \u001b[0;36mget_loc\u001b[1;34m(self, key, method, tolerance)\u001b[0m\n\u001b[0;32m   3361\u001b[0m                 \u001b[1;32mreturn\u001b[0m \u001b[0mself\u001b[0m\u001b[1;33m.\u001b[0m\u001b[0m_engine\u001b[0m\u001b[1;33m.\u001b[0m\u001b[0mget_loc\u001b[0m\u001b[1;33m(\u001b[0m\u001b[0mcasted_key\u001b[0m\u001b[1;33m)\u001b[0m\u001b[1;33m\u001b[0m\u001b[1;33m\u001b[0m\u001b[0m\n\u001b[0;32m   3362\u001b[0m             \u001b[1;32mexcept\u001b[0m \u001b[0mKeyError\u001b[0m \u001b[1;32mas\u001b[0m \u001b[0merr\u001b[0m\u001b[1;33m:\u001b[0m\u001b[1;33m\u001b[0m\u001b[1;33m\u001b[0m\u001b[0m\n\u001b[1;32m-> 3363\u001b[1;33m                 \u001b[1;32mraise\u001b[0m \u001b[0mKeyError\u001b[0m\u001b[1;33m(\u001b[0m\u001b[0mkey\u001b[0m\u001b[1;33m)\u001b[0m \u001b[1;32mfrom\u001b[0m \u001b[0merr\u001b[0m\u001b[1;33m\u001b[0m\u001b[1;33m\u001b[0m\u001b[0m\n\u001b[0m\u001b[0;32m   3364\u001b[0m \u001b[1;33m\u001b[0m\u001b[0m\n\u001b[0;32m   3365\u001b[0m         \u001b[1;32mif\u001b[0m \u001b[0mis_scalar\u001b[0m\u001b[1;33m(\u001b[0m\u001b[0mkey\u001b[0m\u001b[1;33m)\u001b[0m \u001b[1;32mand\u001b[0m \u001b[0misna\u001b[0m\u001b[1;33m(\u001b[0m\u001b[0mkey\u001b[0m\u001b[1;33m)\u001b[0m \u001b[1;32mand\u001b[0m \u001b[1;32mnot\u001b[0m \u001b[0mself\u001b[0m\u001b[1;33m.\u001b[0m\u001b[0mhasnans\u001b[0m\u001b[1;33m:\u001b[0m\u001b[1;33m\u001b[0m\u001b[1;33m\u001b[0m\u001b[0m\n",
      "\u001b[1;31mKeyError\u001b[0m: ('Make', 'Model', 'MSRP')"
     ]
    }
   ],
   "source": [
    "print(df2.Make)\n",
    "print(df2[\"Make\"])\n",
    "print(df2[[\"Make\",\"Model\", \"MSRP\"]])\n",
    "print(df2[\"Make\",\"Model\", \"MSRP\"]) #It will return keyerror as keys given this way returns series."
   ]
  },
  {
   "cell_type": "code",
   "execution_count": 13,
   "metadata": {},
   "outputs": [
    {
     "data": {
      "text/html": [
       "<div>\n",
       "<style scoped>\n",
       "    .dataframe tbody tr th:only-of-type {\n",
       "        vertical-align: middle;\n",
       "    }\n",
       "\n",
       "    .dataframe tbody tr th {\n",
       "        vertical-align: top;\n",
       "    }\n",
       "\n",
       "    .dataframe thead th {\n",
       "        text-align: right;\n",
       "    }\n",
       "</style>\n",
       "<table border=\"1\" class=\"dataframe\">\n",
       "  <thead>\n",
       "    <tr style=\"text-align: right;\">\n",
       "      <th></th>\n",
       "      <th>Make</th>\n",
       "      <th>Model</th>\n",
       "      <th>Year</th>\n",
       "      <th>Engine HP</th>\n",
       "      <th>Engine Cylinders</th>\n",
       "      <th>Transmission Type</th>\n",
       "      <th>Vehicle_Style</th>\n",
       "      <th>MSRP</th>\n",
       "      <th>id</th>\n",
       "    </tr>\n",
       "  </thead>\n",
       "  <tbody>\n",
       "    <tr>\n",
       "      <th>0</th>\n",
       "      <td>Nissan</td>\n",
       "      <td>Stanza</td>\n",
       "      <td>1991</td>\n",
       "      <td>138.0</td>\n",
       "      <td>4</td>\n",
       "      <td>MANUAL</td>\n",
       "      <td>sedan</td>\n",
       "      <td>2000</td>\n",
       "      <td>nis1</td>\n",
       "    </tr>\n",
       "    <tr>\n",
       "      <th>1</th>\n",
       "      <td>Hyundai</td>\n",
       "      <td>Sonata</td>\n",
       "      <td>2017</td>\n",
       "      <td>NaN</td>\n",
       "      <td>4</td>\n",
       "      <td>AUTOMATIC</td>\n",
       "      <td>Sedan</td>\n",
       "      <td>27150</td>\n",
       "      <td>hyu1</td>\n",
       "    </tr>\n",
       "    <tr>\n",
       "      <th>2</th>\n",
       "      <td>Lotus</td>\n",
       "      <td>Elise</td>\n",
       "      <td>2010</td>\n",
       "      <td>218.0</td>\n",
       "      <td>4</td>\n",
       "      <td>MANUAL</td>\n",
       "      <td>convertible</td>\n",
       "      <td>54990</td>\n",
       "      <td>lot2</td>\n",
       "    </tr>\n",
       "    <tr>\n",
       "      <th>3</th>\n",
       "      <td>GMC</td>\n",
       "      <td>Acadia</td>\n",
       "      <td>2017</td>\n",
       "      <td>194.0</td>\n",
       "      <td>4</td>\n",
       "      <td>AUTOMATIC</td>\n",
       "      <td>4dr SUV</td>\n",
       "      <td>34450</td>\n",
       "      <td>gmc1</td>\n",
       "    </tr>\n",
       "    <tr>\n",
       "      <th>4</th>\n",
       "      <td>Nissan</td>\n",
       "      <td>Frontier</td>\n",
       "      <td>2017</td>\n",
       "      <td>261.0</td>\n",
       "      <td>6</td>\n",
       "      <td>MANUAL</td>\n",
       "      <td>Pickup</td>\n",
       "      <td>32340</td>\n",
       "      <td>nis2</td>\n",
       "    </tr>\n",
       "  </tbody>\n",
       "</table>\n",
       "</div>"
      ],
      "text/plain": [
       "      Make     Model  Year  Engine HP  Engine Cylinders Transmission Type  \\\n",
       "0   Nissan    Stanza  1991      138.0                 4            MANUAL   \n",
       "1  Hyundai    Sonata  2017        NaN                 4         AUTOMATIC   \n",
       "2    Lotus     Elise  2010      218.0                 4            MANUAL   \n",
       "3      GMC    Acadia  2017      194.0                 4         AUTOMATIC   \n",
       "4   Nissan  Frontier  2017      261.0                 6            MANUAL   \n",
       "\n",
       "  Vehicle_Style   MSRP    id  \n",
       "0         sedan   2000  nis1  \n",
       "1         Sedan  27150  hyu1  \n",
       "2   convertible  54990  lot2  \n",
       "3       4dr SUV  34450  gmc1  \n",
       "4        Pickup  32340  nis2  "
      ]
     },
     "execution_count": 13,
     "metadata": {},
     "output_type": "execute_result"
    }
   ],
   "source": [
    "# Adding column in a dataset\n",
    "df2['id'] = ['nis1', 'hyu1', 'lot2', 'gmc1', 'nis2']#Values can also be numerical\n",
    "df2"
   ]
  },
  {
   "cell_type": "code",
   "execution_count": 14,
   "metadata": {},
   "outputs": [
    {
     "data": {
      "text/html": [
       "<div>\n",
       "<style scoped>\n",
       "    .dataframe tbody tr th:only-of-type {\n",
       "        vertical-align: middle;\n",
       "    }\n",
       "\n",
       "    .dataframe tbody tr th {\n",
       "        vertical-align: top;\n",
       "    }\n",
       "\n",
       "    .dataframe thead th {\n",
       "        text-align: right;\n",
       "    }\n",
       "</style>\n",
       "<table border=\"1\" class=\"dataframe\">\n",
       "  <thead>\n",
       "    <tr style=\"text-align: right;\">\n",
       "      <th></th>\n",
       "      <th>Make</th>\n",
       "      <th>Model</th>\n",
       "      <th>Year</th>\n",
       "      <th>Engine HP</th>\n",
       "      <th>Engine Cylinders</th>\n",
       "      <th>Transmission Type</th>\n",
       "      <th>Vehicle_Style</th>\n",
       "      <th>MSRP</th>\n",
       "    </tr>\n",
       "  </thead>\n",
       "  <tbody>\n",
       "    <tr>\n",
       "      <th>0</th>\n",
       "      <td>Nissan</td>\n",
       "      <td>Stanza</td>\n",
       "      <td>1991</td>\n",
       "      <td>138.0</td>\n",
       "      <td>4</td>\n",
       "      <td>MANUAL</td>\n",
       "      <td>sedan</td>\n",
       "      <td>2000</td>\n",
       "    </tr>\n",
       "    <tr>\n",
       "      <th>1</th>\n",
       "      <td>Hyundai</td>\n",
       "      <td>Sonata</td>\n",
       "      <td>2017</td>\n",
       "      <td>NaN</td>\n",
       "      <td>4</td>\n",
       "      <td>AUTOMATIC</td>\n",
       "      <td>Sedan</td>\n",
       "      <td>27150</td>\n",
       "    </tr>\n",
       "    <tr>\n",
       "      <th>2</th>\n",
       "      <td>Lotus</td>\n",
       "      <td>Elise</td>\n",
       "      <td>2010</td>\n",
       "      <td>218.0</td>\n",
       "      <td>4</td>\n",
       "      <td>MANUAL</td>\n",
       "      <td>convertible</td>\n",
       "      <td>54990</td>\n",
       "    </tr>\n",
       "    <tr>\n",
       "      <th>3</th>\n",
       "      <td>GMC</td>\n",
       "      <td>Acadia</td>\n",
       "      <td>2017</td>\n",
       "      <td>194.0</td>\n",
       "      <td>4</td>\n",
       "      <td>AUTOMATIC</td>\n",
       "      <td>4dr SUV</td>\n",
       "      <td>34450</td>\n",
       "    </tr>\n",
       "    <tr>\n",
       "      <th>4</th>\n",
       "      <td>Nissan</td>\n",
       "      <td>Frontier</td>\n",
       "      <td>2017</td>\n",
       "      <td>261.0</td>\n",
       "      <td>6</td>\n",
       "      <td>MANUAL</td>\n",
       "      <td>Pickup</td>\n",
       "      <td>32340</td>\n",
       "    </tr>\n",
       "  </tbody>\n",
       "</table>\n",
       "</div>"
      ],
      "text/plain": [
       "      Make     Model  Year  Engine HP  Engine Cylinders Transmission Type  \\\n",
       "0   Nissan    Stanza  1991      138.0                 4            MANUAL   \n",
       "1  Hyundai    Sonata  2017        NaN                 4         AUTOMATIC   \n",
       "2    Lotus     Elise  2010      218.0                 4            MANUAL   \n",
       "3      GMC    Acadia  2017      194.0                 4         AUTOMATIC   \n",
       "4   Nissan  Frontier  2017      261.0                 6            MANUAL   \n",
       "\n",
       "  Vehicle_Style   MSRP  \n",
       "0         sedan   2000  \n",
       "1         Sedan  27150  \n",
       "2   convertible  54990  \n",
       "3       4dr SUV  34450  \n",
       "4        Pickup  32340  "
      ]
     },
     "execution_count": 14,
     "metadata": {},
     "output_type": "execute_result"
    }
   ],
   "source": [
    "del df2['id']\n",
    "df2"
   ]
  },
  {
   "attachments": {},
   "cell_type": "markdown",
   "metadata": {},
   "source": [
    "### Indexing"
   ]
  },
  {
   "cell_type": "code",
   "execution_count": 15,
   "metadata": {},
   "outputs": [
    {
     "data": {
      "text/plain": [
       "RangeIndex(start=0, stop=5, step=1)"
      ]
     },
     "execution_count": 15,
     "metadata": {},
     "output_type": "execute_result"
    }
   ],
   "source": [
    "df2.index"
   ]
  },
  {
   "cell_type": "code",
   "execution_count": 16,
   "metadata": {},
   "outputs": [
    {
     "data": {
      "text/plain": [
       "RangeIndex(start=0, stop=5, step=1)"
      ]
     },
     "execution_count": 16,
     "metadata": {},
     "output_type": "execute_result"
    }
   ],
   "source": [
    "df2.Make.index"
   ]
  },
  {
   "cell_type": "code",
   "execution_count": 17,
   "metadata": {},
   "outputs": [
    {
     "data": {
      "text/plain": [
       "Index(['Make', 'Model', 'Year', 'Engine HP', 'Engine Cylinders',\n",
       "       'Transmission Type', 'Vehicle_Style', 'MSRP'],\n",
       "      dtype='object')"
      ]
     },
     "execution_count": 17,
     "metadata": {},
     "output_type": "execute_result"
    }
   ],
   "source": [
    "df2.columns"
   ]
  },
  {
   "cell_type": "code",
   "execution_count": 18,
   "metadata": {},
   "outputs": [
    {
     "data": {
      "text/plain": [
       "Make                       GMC\n",
       "Model                   Acadia\n",
       "Year                      2017\n",
       "Engine HP                194.0\n",
       "Engine Cylinders             4\n",
       "Transmission Type    AUTOMATIC\n",
       "Vehicle_Style          4dr SUV\n",
       "MSRP                     34450\n",
       "Name: 3, dtype: object"
      ]
     },
     "execution_count": 18,
     "metadata": {},
     "output_type": "execute_result"
    }
   ],
   "source": [
    "df2.iloc[3]"
   ]
  },
  {
   "cell_type": "code",
   "execution_count": 23,
   "metadata": {},
   "outputs": [
    {
     "data": {
      "text/html": [
       "<div>\n",
       "<style scoped>\n",
       "    .dataframe tbody tr th:only-of-type {\n",
       "        vertical-align: middle;\n",
       "    }\n",
       "\n",
       "    .dataframe tbody tr th {\n",
       "        vertical-align: top;\n",
       "    }\n",
       "\n",
       "    .dataframe thead th {\n",
       "        text-align: right;\n",
       "    }\n",
       "</style>\n",
       "<table border=\"1\" class=\"dataframe\">\n",
       "  <thead>\n",
       "    <tr style=\"text-align: right;\">\n",
       "      <th></th>\n",
       "      <th>Make</th>\n",
       "      <th>Model</th>\n",
       "      <th>Year</th>\n",
       "      <th>Engine HP</th>\n",
       "      <th>Engine Cylinders</th>\n",
       "      <th>Transmission Type</th>\n",
       "      <th>Vehicle_Style</th>\n",
       "      <th>MSRP</th>\n",
       "    </tr>\n",
       "  </thead>\n",
       "  <tbody>\n",
       "    <tr>\n",
       "      <th>2</th>\n",
       "      <td>Lotus</td>\n",
       "      <td>Elise</td>\n",
       "      <td>2010</td>\n",
       "      <td>218.0</td>\n",
       "      <td>4</td>\n",
       "      <td>MANUAL</td>\n",
       "      <td>convertible</td>\n",
       "      <td>54990</td>\n",
       "    </tr>\n",
       "    <tr>\n",
       "      <th>3</th>\n",
       "      <td>GMC</td>\n",
       "      <td>Acadia</td>\n",
       "      <td>2017</td>\n",
       "      <td>194.0</td>\n",
       "      <td>4</td>\n",
       "      <td>AUTOMATIC</td>\n",
       "      <td>4dr SUV</td>\n",
       "      <td>34450</td>\n",
       "    </tr>\n",
       "    <tr>\n",
       "      <th>0</th>\n",
       "      <td>Nissan</td>\n",
       "      <td>Stanza</td>\n",
       "      <td>1991</td>\n",
       "      <td>138.0</td>\n",
       "      <td>4</td>\n",
       "      <td>MANUAL</td>\n",
       "      <td>sedan</td>\n",
       "      <td>2000</td>\n",
       "    </tr>\n",
       "  </tbody>\n",
       "</table>\n",
       "</div>"
      ],
      "text/plain": [
       "     Make   Model  Year  Engine HP  Engine Cylinders Transmission Type  \\\n",
       "2   Lotus   Elise  2010      218.0                 4            MANUAL   \n",
       "3     GMC  Acadia  2017      194.0                 4         AUTOMATIC   \n",
       "0  Nissan  Stanza  1991      138.0                 4            MANUAL   \n",
       "\n",
       "  Vehicle_Style   MSRP  \n",
       "2   convertible  54990  \n",
       "3       4dr SUV  34450  \n",
       "0         sedan   2000  "
      ]
     },
     "execution_count": 23,
     "metadata": {},
     "output_type": "execute_result"
    }
   ],
   "source": [
    "df1.iloc[[2,3,0]]\n"
   ]
  },
  {
   "cell_type": "code",
   "execution_count": 24,
   "metadata": {},
   "outputs": [
    {
     "ename": "IndexingError",
     "evalue": "Too many indexers",
     "output_type": "error",
     "traceback": [
      "\u001b[1;31m---------------------------------------------------------------------------\u001b[0m",
      "\u001b[1;31mIndexingError\u001b[0m                             Traceback (most recent call last)",
      "\u001b[1;32m~\\AppData\\Local\\Temp\\ipykernel_9132\\1312161977.py\u001b[0m in \u001b[0;36m<module>\u001b[1;34m\u001b[0m\n\u001b[1;32m----> 1\u001b[1;33m \u001b[0mdf2\u001b[0m\u001b[1;33m.\u001b[0m\u001b[0miloc\u001b[0m\u001b[1;33m[\u001b[0m\u001b[1;36m2\u001b[0m\u001b[1;33m,\u001b[0m\u001b[1;36m3\u001b[0m\u001b[1;33m,\u001b[0m\u001b[1;36m0\u001b[0m\u001b[1;33m]\u001b[0m\u001b[1;31m#iloc can return only one value\u001b[0m\u001b[1;33m\u001b[0m\u001b[1;33m\u001b[0m\u001b[0m\n\u001b[0m",
      "\u001b[1;32me:\\app\\Python\\lib\\site-packages\\pandas\\core\\indexing.py\u001b[0m in \u001b[0;36m__getitem__\u001b[1;34m(self, key)\u001b[0m\n\u001b[0;32m    923\u001b[0m                 \u001b[1;32mwith\u001b[0m \u001b[0msuppress\u001b[0m\u001b[1;33m(\u001b[0m\u001b[0mKeyError\u001b[0m\u001b[1;33m,\u001b[0m \u001b[0mIndexError\u001b[0m\u001b[1;33m)\u001b[0m\u001b[1;33m:\u001b[0m\u001b[1;33m\u001b[0m\u001b[1;33m\u001b[0m\u001b[0m\n\u001b[0;32m    924\u001b[0m                     \u001b[1;32mreturn\u001b[0m \u001b[0mself\u001b[0m\u001b[1;33m.\u001b[0m\u001b[0mobj\u001b[0m\u001b[1;33m.\u001b[0m\u001b[0m_get_value\u001b[0m\u001b[1;33m(\u001b[0m\u001b[1;33m*\u001b[0m\u001b[0mkey\u001b[0m\u001b[1;33m,\u001b[0m \u001b[0mtakeable\u001b[0m\u001b[1;33m=\u001b[0m\u001b[0mself\u001b[0m\u001b[1;33m.\u001b[0m\u001b[0m_takeable\u001b[0m\u001b[1;33m)\u001b[0m\u001b[1;33m\u001b[0m\u001b[1;33m\u001b[0m\u001b[0m\n\u001b[1;32m--> 925\u001b[1;33m             \u001b[1;32mreturn\u001b[0m \u001b[0mself\u001b[0m\u001b[1;33m.\u001b[0m\u001b[0m_getitem_tuple\u001b[0m\u001b[1;33m(\u001b[0m\u001b[0mkey\u001b[0m\u001b[1;33m)\u001b[0m\u001b[1;33m\u001b[0m\u001b[1;33m\u001b[0m\u001b[0m\n\u001b[0m\u001b[0;32m    926\u001b[0m         \u001b[1;32melse\u001b[0m\u001b[1;33m:\u001b[0m\u001b[1;33m\u001b[0m\u001b[1;33m\u001b[0m\u001b[0m\n\u001b[0;32m    927\u001b[0m             \u001b[1;31m# we by definition only have the 0th axis\u001b[0m\u001b[1;33m\u001b[0m\u001b[1;33m\u001b[0m\u001b[1;33m\u001b[0m\u001b[0m\n",
      "\u001b[1;32me:\\app\\Python\\lib\\site-packages\\pandas\\core\\indexing.py\u001b[0m in \u001b[0;36m_getitem_tuple\u001b[1;34m(self, tup)\u001b[0m\n\u001b[0;32m   1504\u001b[0m     \u001b[1;32mdef\u001b[0m \u001b[0m_getitem_tuple\u001b[0m\u001b[1;33m(\u001b[0m\u001b[0mself\u001b[0m\u001b[1;33m,\u001b[0m \u001b[0mtup\u001b[0m\u001b[1;33m:\u001b[0m \u001b[0mtuple\u001b[0m\u001b[1;33m)\u001b[0m\u001b[1;33m:\u001b[0m\u001b[1;33m\u001b[0m\u001b[1;33m\u001b[0m\u001b[0m\n\u001b[0;32m   1505\u001b[0m \u001b[1;33m\u001b[0m\u001b[0m\n\u001b[1;32m-> 1506\u001b[1;33m         \u001b[0mself\u001b[0m\u001b[1;33m.\u001b[0m\u001b[0m_has_valid_tuple\u001b[0m\u001b[1;33m(\u001b[0m\u001b[0mtup\u001b[0m\u001b[1;33m)\u001b[0m\u001b[1;33m\u001b[0m\u001b[1;33m\u001b[0m\u001b[0m\n\u001b[0m\u001b[0;32m   1507\u001b[0m         \u001b[1;32mwith\u001b[0m \u001b[0msuppress\u001b[0m\u001b[1;33m(\u001b[0m\u001b[0mIndexingError\u001b[0m\u001b[1;33m)\u001b[0m\u001b[1;33m:\u001b[0m\u001b[1;33m\u001b[0m\u001b[1;33m\u001b[0m\u001b[0m\n\u001b[0;32m   1508\u001b[0m             \u001b[1;32mreturn\u001b[0m \u001b[0mself\u001b[0m\u001b[1;33m.\u001b[0m\u001b[0m_getitem_lowerdim\u001b[0m\u001b[1;33m(\u001b[0m\u001b[0mtup\u001b[0m\u001b[1;33m)\u001b[0m\u001b[1;33m\u001b[0m\u001b[1;33m\u001b[0m\u001b[0m\n",
      "\u001b[1;32me:\\app\\Python\\lib\\site-packages\\pandas\\core\\indexing.py\u001b[0m in \u001b[0;36m_has_valid_tuple\u001b[1;34m(self, key)\u001b[0m\n\u001b[0;32m    749\u001b[0m         \u001b[0mCheck\u001b[0m \u001b[0mthe\u001b[0m \u001b[0mkey\u001b[0m \u001b[1;32mfor\u001b[0m \u001b[0mvalid\u001b[0m \u001b[0mkeys\u001b[0m \u001b[0macross\u001b[0m \u001b[0mmy\u001b[0m \u001b[0mindexer\u001b[0m\u001b[1;33m.\u001b[0m\u001b[1;33m\u001b[0m\u001b[1;33m\u001b[0m\u001b[0m\n\u001b[0;32m    750\u001b[0m         \"\"\"\n\u001b[1;32m--> 751\u001b[1;33m         \u001b[0mself\u001b[0m\u001b[1;33m.\u001b[0m\u001b[0m_validate_key_length\u001b[0m\u001b[1;33m(\u001b[0m\u001b[0mkey\u001b[0m\u001b[1;33m)\u001b[0m\u001b[1;33m\u001b[0m\u001b[1;33m\u001b[0m\u001b[0m\n\u001b[0m\u001b[0;32m    752\u001b[0m         \u001b[1;32mfor\u001b[0m \u001b[0mi\u001b[0m\u001b[1;33m,\u001b[0m \u001b[0mk\u001b[0m \u001b[1;32min\u001b[0m \u001b[0menumerate\u001b[0m\u001b[1;33m(\u001b[0m\u001b[0mkey\u001b[0m\u001b[1;33m)\u001b[0m\u001b[1;33m:\u001b[0m\u001b[1;33m\u001b[0m\u001b[1;33m\u001b[0m\u001b[0m\n\u001b[0;32m    753\u001b[0m             \u001b[1;32mtry\u001b[0m\u001b[1;33m:\u001b[0m\u001b[1;33m\u001b[0m\u001b[1;33m\u001b[0m\u001b[0m\n",
      "\u001b[1;32me:\\app\\Python\\lib\\site-packages\\pandas\\core\\indexing.py\u001b[0m in \u001b[0;36m_validate_key_length\u001b[1;34m(self, key)\u001b[0m\n\u001b[0;32m    790\u001b[0m     \u001b[1;32mdef\u001b[0m \u001b[0m_validate_key_length\u001b[0m\u001b[1;33m(\u001b[0m\u001b[0mself\u001b[0m\u001b[1;33m,\u001b[0m \u001b[0mkey\u001b[0m\u001b[1;33m:\u001b[0m \u001b[0mSequence\u001b[0m\u001b[1;33m[\u001b[0m\u001b[0mAny\u001b[0m\u001b[1;33m]\u001b[0m\u001b[1;33m)\u001b[0m \u001b[1;33m->\u001b[0m \u001b[1;32mNone\u001b[0m\u001b[1;33m:\u001b[0m\u001b[1;33m\u001b[0m\u001b[1;33m\u001b[0m\u001b[0m\n\u001b[0;32m    791\u001b[0m         \u001b[1;32mif\u001b[0m \u001b[0mlen\u001b[0m\u001b[1;33m(\u001b[0m\u001b[0mkey\u001b[0m\u001b[1;33m)\u001b[0m \u001b[1;33m>\u001b[0m \u001b[0mself\u001b[0m\u001b[1;33m.\u001b[0m\u001b[0mndim\u001b[0m\u001b[1;33m:\u001b[0m\u001b[1;33m\u001b[0m\u001b[1;33m\u001b[0m\u001b[0m\n\u001b[1;32m--> 792\u001b[1;33m             \u001b[1;32mraise\u001b[0m \u001b[0mIndexingError\u001b[0m\u001b[1;33m(\u001b[0m\u001b[1;34m\"Too many indexers\"\u001b[0m\u001b[1;33m)\u001b[0m\u001b[1;33m\u001b[0m\u001b[1;33m\u001b[0m\u001b[0m\n\u001b[0m\u001b[0;32m    793\u001b[0m \u001b[1;33m\u001b[0m\u001b[0m\n\u001b[0;32m    794\u001b[0m     \u001b[1;32mdef\u001b[0m \u001b[0m_getitem_tuple_same_dim\u001b[0m\u001b[1;33m(\u001b[0m\u001b[0mself\u001b[0m\u001b[1;33m,\u001b[0m \u001b[0mtup\u001b[0m\u001b[1;33m:\u001b[0m \u001b[0mtuple\u001b[0m\u001b[1;33m)\u001b[0m\u001b[1;33m:\u001b[0m\u001b[1;33m\u001b[0m\u001b[1;33m\u001b[0m\u001b[0m\n",
      "\u001b[1;31mIndexingError\u001b[0m: Too many indexers"
     ]
    }
   ],
   "source": [
    "df2.iloc[2,3,0]#iloc can return only one value"
   ]
  },
  {
   "cell_type": "code",
   "execution_count": null,
   "metadata": {},
   "outputs": [],
   "source": []
  }
 ],
 "metadata": {
  "kernelspec": {
   "display_name": "Python 3",
   "language": "python",
   "name": "python3"
  },
  "language_info": {
   "codemirror_mode": {
    "name": "ipython",
    "version": 3
   },
   "file_extension": ".py",
   "mimetype": "text/x-python",
   "name": "python",
   "nbconvert_exporter": "python",
   "pygments_lexer": "ipython3",
   "version": "3.7.3"
  },
  "orig_nbformat": 4
 },
 "nbformat": 4,
 "nbformat_minor": 2
}
