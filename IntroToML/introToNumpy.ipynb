{
 "cells": [
  {
   "attachments": {},
   "cell_type": "markdown",
   "metadata": {},
   "source": [
    "## Introduction to Numpy\n",
    "* NumPy is a python library.\n",
    "* Can work in the domain of linear algebra, fourier transformation and matrices.\n",
    "* NumPy stands for Numerical Python.\n",
    "* NumPy uses the array object called `ndarray`.\n",
    "* NumPy array is faster than list because it uses a memory allocation system named **contiguous memory allocation**.[More Info](https://www.geeksforgeeks.org/python-lists-vs-numpy-arrays/)\n",
    "* **Contiguous Memory Allocation**: Contiguous memory allocation is basically a method in which a single contiguous section/part of memory is allocated to a process or file needing it. Because of this all the available memory space resides at the same place together, which means that the freely/unused available memory partitions are not distributed in a random fashion here and there across the whole memory space.[More Info](https://www.geeksforgeeks.org/difference-between-contiguous-and-noncontiguous-memory-allocation/) and a [Youtube](https://youtu.be/eHzUtmPGfJw) video.\n",
    "![Contiguous Memory](../images/coniguousMemory.jpg)\n",
    "* NumPy is a Python library and is written partially in Python, but most of the parts that require fast computation are written in **C or C++**.\n",
    "* The source code for NumPy is located at this [github repository](https://github.com/numpy/numpy)."
   ]
  },
  {
   "attachments": {},
   "cell_type": "markdown",
   "metadata": {},
   "source": [
    "### Some important points about Numpy arrays:\n",
    "\n",
    "* We can create an N-dimensional array in python using `Numpy.array()`.\n",
    "* The array is by default Homogeneous, which means data inside an array must be of the same Datatype. (**Note you can also create a structured array in python**).\n",
    "* Element-wise operation is possible.\n",
    "* Numpy array has various functions, methods, and variables, to ease our task of matrix computation.\n",
    "* Elements of an array are stored contiguously in memory. For example, all rows of a two-dimensioned array must have the same number of columns. Or a three dimensioned array must have the same number of rows and columns on each card."
   ]
  },
  {
   "cell_type": "code",
   "execution_count": 1,
   "metadata": {},
   "outputs": [
    {
     "data": {
      "text/plain": [
       "<module 'numpy' from 'e:\\\\app\\\\Python\\\\lib\\\\site-packages\\\\numpy\\\\__init__.py'>"
      ]
     },
     "execution_count": 1,
     "metadata": {},
     "output_type": "execute_result"
    }
   ],
   "source": [
    "#Importing NumPy as alias np\n",
    "import numpy as np\n",
    "np"
   ]
  },
  {
   "cell_type": "code",
   "execution_count": null,
   "metadata": {},
   "outputs": [],
   "source": []
  }
 ],
 "metadata": {
  "kernelspec": {
   "display_name": "Python 3",
   "language": "python",
   "name": "python3"
  },
  "language_info": {
   "codemirror_mode": {
    "name": "ipython",
    "version": 3
   },
   "file_extension": ".py",
   "mimetype": "text/x-python",
   "name": "python",
   "nbconvert_exporter": "python",
   "pygments_lexer": "ipython3",
   "version": "3.7.3"
  },
  "orig_nbformat": 4
 },
 "nbformat": 4,
 "nbformat_minor": 2
}
