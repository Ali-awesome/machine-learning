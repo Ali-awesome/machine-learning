{
 "cells": [
  {
   "attachments": {},
   "cell_type": "markdown",
   "metadata": {},
   "source": [
    "## Introduction to Numpy\n",
    "* NumPy is a python library.\n",
    "* Can work in the domain of linear algebra, fourier transformation and matrices.\n",
    "* NumPy stands for Numerical Python.\n",
    "* NumPy uses the array object called `ndarray`.\n",
    "* NumPy array is faster than list because it uses a memory allocation system named **contiguous memory allocation**. [More Info](https://www.geeksforgeeks.org/python-lists-vs-numpy-arrays/)\n",
    "* **Contiguous Memory Allocation**: Contiguous memory allocation is basically a method in which a single contiguous section/part of memory is allocated to a process or file needing it. Because of this all the available memory space resides at the same place together, which means that the freely/unused available memory partitions are not distributed in a random fashion here and there across the whole memory space.  [More Info](https://www.geeksforgeeks.org/difference-between-contiguous-and-noncontiguous-memory-allocation/) and a [Youtube](https://youtu.be/eHzUtmPGfJw) video.\n",
    "\n",
    "    ![Contiguous Memory](../images/coniguousMemory.jpg)\n",
    "* NumPy is a Python library and is written partially in Python, but most of the parts that require fast computation are written in **C or C++**.\n",
    "* The source code for NumPy is located at this [github repository](https://github.com/numpy/numpy)."
   ]
  },
  {
   "attachments": {},
   "cell_type": "markdown",
   "metadata": {},
   "source": [
    "### Some important points about Numpy arrays:\n",
    "\n",
    "* We can create an N-dimensional array in python using `Numpy.array()`.\n",
    "* The array is by default Homogeneous, which means data inside an array must be of the same Datatype. (**Note you can also create a structured array in python**).\n",
    "* Element-wise operation is possible.\n",
    "* Numpy array has various functions, methods, and variables, to ease our task of matrix computation.\n",
    "* Elements of an array are stored contiguously in memory. For example, all rows of a two-dimensioned array must have the same number of columns. Or a three dimensioned array must have the same number of rows and columns on each card."
   ]
  },
  {
   "cell_type": "code",
   "execution_count": 3,
   "metadata": {},
   "outputs": [
    {
     "data": {
      "text/plain": [
       "<module 'numpy' from 'e:\\\\app\\\\Python\\\\lib\\\\site-packages\\\\numpy\\\\__init__.py'>"
      ]
     },
     "execution_count": 3,
     "metadata": {},
     "output_type": "execute_result"
    }
   ],
   "source": [
    "#Importing NumPy as alias np\n",
    "import numpy as np\n",
    "np"
   ]
  },
  {
   "cell_type": "code",
   "execution_count": 4,
   "metadata": {},
   "outputs": [
    {
     "name": "stdout",
     "output_type": "stream",
     "text": [
      "1.21.6\n"
     ]
    }
   ],
   "source": [
    "# Version Check\n",
    "print(np.__version__)"
   ]
  },
  {
   "attachments": {},
   "cell_type": "markdown",
   "metadata": {},
   "source": [
    "## All'bout Array"
   ]
  },
  {
   "cell_type": "code",
   "execution_count": 5,
   "metadata": {},
   "outputs": [
    {
     "name": "stdout",
     "output_type": "stream",
     "text": [
      "This is Array [1 2 3 4 5] and this created in an alternative way [1 2 3 4 5]\n",
      "Both this <class 'numpy.ndarray'> and this <class 'numpy.ndarray'> same type\n",
      "None\n",
      "[1 5 6]\n",
      "<class 'numpy.ndarray'>\n"
     ]
    }
   ],
   "source": [
    "# Creating NumPy arrays\n",
    "arr = np.array([1, 2, 3, 4, 5])\n",
    "# Alternative way\n",
    "alArr = np.arange(1,6)\n",
    "print('This is Array {} and this created in an alternative way {}'.format(arr, alArr))\n",
    "print(print('Both this {} and this {} same type'.format(type(arr), type(alArr))))\n",
    "\n",
    "# To create an ndarray, we can pass a list, tuple or any array-like object into the array() method, and it will be converted into an ndarray\n",
    "itTuple = (1, 5, 6)\n",
    "convertedArray = np.array(itTuple)\n",
    "print(convertedArray)\n",
    "print(type(convertedArray))\n"
   ]
  },
  {
   "attachments": {},
   "cell_type": "markdown",
   "metadata": {},
   "source": [
    "### Dimension of Array\n",
    "* A dimension in arrays is one level of array depth (nested array).\n",
    "* **Nested Array**: Nested arrays that have arrays as their elements.\n",
    "* 0-D arrays, or Scalars, are the elements in an array. Each value in an array is a 0-D array.\n",
    "* An array that has 0-D arrays as its elements is called uni-dimensional or 1-D array.\n",
    "* An array that has 1-D arrays as its elements is called a 2-D array. These are often used to represent matrix or 2nd order tensors.\n",
    "* An array that has 2-D arrays (matrices) as its elements is called 3-D array. These are often used to represent a 3rd order tensor.\n",
    "* An array can have any number of dimensions. When the array is created, you can define the number of dimensions by using the ndmin argument."
   ]
  },
  {
   "cell_type": "code",
   "execution_count": 6,
   "metadata": {},
   "outputs": [
    {
     "name": "stdout",
     "output_type": "stream",
     "text": [
      "This is 0-D array: \n",
      " 33, \n",
      "\n",
      " This is 1-D array: \n",
      " [32 65 12 33], \n",
      "\n",
      " This is 2-D array: \n",
      " [[33 34 35]\n",
      " [22 23 24]], \n",
      "\n",
      " This is 3-D array: \n",
      " [[[33 34 35]\n",
      "  [22 23 24]]\n",
      "\n",
      " [[39 37 36]\n",
      "  [22 22 25]]], \n",
      "\n",
      " This is N-D array: \n",
      " [[[[[[33 34 35]\n",
      "     [22 23 24]]\n",
      "\n",
      "    [[39 37 36]\n",
      "     [22 22 25]]]]]]\n",
      "Dimension of 0-D array: \n",
      " 0, \n",
      "\n",
      " Dimension of 1-D array: \n",
      " 1, \n",
      "\n",
      " Dimension of 2-D array: \n",
      " 2, \n",
      "\n",
      " Dimension of 3-D array: \n",
      " 3, \n",
      "\n",
      " Dimension of N-D array: \n",
      " 6\n"
     ]
    }
   ],
   "source": [
    "# 0-D Array\n",
    "O_D = np.array(33)\n",
    "I_D = np.array([32, 65, 12, 33])\n",
    "II_D = np.array([[33, 34, 35],[22, 23, 24]])\n",
    "III_D = np.array([[[33, 34, 35],[22, 23, 24]],[[39, 37, 36],[22, 22, 25]]])\n",
    "\n",
    "#Setting the dimension by 'ndmin'\n",
    "N_D = np.array([[[33, 34, 35],[22, 23, 24]],[[39, 37, 36],[22, 22, 25]]], ndmin=6)\n",
    "\n",
    "# Printing the arrays and their dimensions\n",
    "print('This is 0-D array: \\n {}, \\n\\n This is 1-D array: \\n {}, \\n\\n This is 2-D array: \\n {}, \\n\\n This is 3-D array: \\n {}, \\n\\n This is N-D array: \\n {}'.format(O_D, I_D, II_D, III_D, N_D))\n",
    "\n",
    "print('Dimension of 0-D array: \\n {}, \\n\\n Dimension of 1-D array: \\n {}, \\n\\n Dimension of 2-D array: \\n {}, \\n\\n Dimension of 3-D array: \\n {}, \\n\\n Dimension of N-D array: \\n {}'.format(O_D.ndim, I_D.ndim, II_D.ndim, III_D.ndim, N_D.ndim))"
   ]
  },
  {
   "cell_type": "code",
   "execution_count": null,
   "metadata": {},
   "outputs": [],
   "source": []
  }
 ],
 "metadata": {
  "kernelspec": {
   "display_name": "Python 3",
   "language": "python",
   "name": "python3"
  },
  "language_info": {
   "codemirror_mode": {
    "name": "ipython",
    "version": 3
   },
   "file_extension": ".py",
   "mimetype": "text/x-python",
   "name": "python",
   "nbconvert_exporter": "python",
   "pygments_lexer": "ipython3",
   "version": "3.7.3"
  },
  "orig_nbformat": 4
 },
 "nbformat": 4,
 "nbformat_minor": 2
}
