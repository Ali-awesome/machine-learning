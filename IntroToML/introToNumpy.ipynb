{
 "cells": [
  {
   "attachments": {},
   "cell_type": "markdown",
   "metadata": {},
   "source": [
    "## Introduction to Numpy\n",
    "* NumPy is a python library.\n",
    "* Can work in the domain of linear algebra, fourier transformation and matrices.\n",
    "* NumPy stands for Numerical Python.\n",
    "* NumPy uses the array object called `ndarray`.\n",
    "* NumPy array is faster than list because it uses a memory allocation system named **contiguous memory allocation**. [More Info](https://www.geeksforgeeks.org/python-lists-vs-numpy-arrays/)\n",
    "* **Contiguous Memory Allocation**: Contiguous memory allocation is basically a method in which a single contiguous section/part of memory is allocated to a process or file needing it. Because of this all the available memory space resides at the same place together, which means that the freely/unused available memory partitions are not distributed in a random fashion here and there across the whole memory space.  [More Info](https://www.geeksforgeeks.org/difference-between-contiguous-and-noncontiguous-memory-allocation/) and a [Youtube](https://youtu.be/eHzUtmPGfJw) video.\n",
    "\n",
    "    ![Contiguous Memory](../images/coniguousMemory.jpg)\n",
    "* NumPy is a Python library and is written partially in Python, but most of the parts that require fast computation are written in **C or C++**.\n",
    "* The source code for NumPy is located at this [github repository](https://github.com/numpy/numpy)."
   ]
  },
  {
   "attachments": {},
   "cell_type": "markdown",
   "metadata": {},
   "source": [
    "### Some important points about Numpy arrays:\n",
    "\n",
    "* We can create an N-dimensional array in python using `Numpy.array()`.\n",
    "* The array is by default Homogeneous, which means data inside an array must be of the same Datatype. (**Note you can also create a structured array in python**).\n",
    "* Element-wise operation is possible.\n",
    "* Numpy array has various functions, methods, and variables, to ease our task of matrix computation.\n",
    "* Elements of an array are stored contiguously in memory. For example, all rows of a two-dimensioned array must have the same number of columns. Or a three dimensioned array must have the same number of rows and columns on each card."
   ]
  },
  {
   "cell_type": "code",
   "execution_count": 1,
   "metadata": {},
   "outputs": [
    {
     "data": {
      "text/plain": [
       "<module 'numpy' from 'e:\\\\app\\\\Python\\\\lib\\\\site-packages\\\\numpy\\\\__init__.py'>"
      ]
     },
     "execution_count": 1,
     "metadata": {},
     "output_type": "execute_result"
    }
   ],
   "source": [
    "#Importing NumPy as alias np\n",
    "import numpy as np\n",
    "np"
   ]
  },
  {
   "cell_type": "code",
   "execution_count": 2,
   "metadata": {},
   "outputs": [
    {
     "name": "stdout",
     "output_type": "stream",
     "text": [
      "1.21.6\n"
     ]
    }
   ],
   "source": [
    "# Version Check\n",
    "print(np.__version__)"
   ]
  },
  {
   "attachments": {},
   "cell_type": "markdown",
   "metadata": {},
   "source": [
    "## All'bout Array"
   ]
  },
  {
   "cell_type": "code",
   "execution_count": 3,
   "metadata": {},
   "outputs": [
    {
     "name": "stdout",
     "output_type": "stream",
     "text": [
      "This is Array [1 2 3 4 5] and this created in an alternative way [1 2 3 4 5]\n",
      "Both this <class 'numpy.ndarray'> and this <class 'numpy.ndarray'> same type\n",
      "None\n",
      "[1 5 6]\n",
      "<class 'numpy.ndarray'>\n"
     ]
    }
   ],
   "source": [
    "# Creating NumPy arrays\n",
    "arr = np.array([1, 2, 3, 4, 5])\n",
    "# Alternative way\n",
    "alArr = np.arange(1,6)\n",
    "print('This is Array {} and this created in an alternative way {}'.format(arr, alArr))\n",
    "print(print('Both this {} and this {} same type'.format(type(arr), type(alArr))))\n",
    "\n",
    "# To create an ndarray, we can pass a list, tuple or any array-like object into the array() method, and it will be converted into an ndarray\n",
    "itTuple = (1, 5, 6)\n",
    "convertedArray = np.array(itTuple)\n",
    "print(convertedArray)\n",
    "print(type(convertedArray))\n"
   ]
  },
  {
   "attachments": {},
   "cell_type": "markdown",
   "metadata": {},
   "source": [
    "### Dimension of Array\n",
    "* A dimension in arrays is one level of array depth (nested array).\n",
    "* **Nested Array**: Nested arrays that have arrays as their elements.\n",
    "* 0-D arrays, or Scalars, are the elements in an array. Each value in an array is a 0-D array.\n",
    "* An array that has 0-D arrays as its elements is called uni-dimensional or 1-D array.\n",
    "* An array that has 1-D arrays as its elements is called a 2-D array. These are often used to represent matrix or 2nd order tensors.\n",
    "* An array that has 2-D arrays (matrices) as its elements is called 3-D array. These are often used to represent a 3rd order tensor.\n",
    "* An array can have any number of dimensions. When the array is created, you can define the number of dimensions by using the ndmin argument."
   ]
  },
  {
   "cell_type": "code",
   "execution_count": 4,
   "metadata": {},
   "outputs": [
    {
     "name": "stdout",
     "output_type": "stream",
     "text": [
      "This is 0-D array: \n",
      " 33, \n",
      "\n",
      " This is 1-D array: \n",
      " [32 65 12 33], \n",
      "\n",
      " This is 2-D array: \n",
      " [[33 34 35]\n",
      " [22 23 24]], \n",
      "\n",
      " This is 3-D array: \n",
      " [[[33 34 35]\n",
      "  [22 23 24]]\n",
      "\n",
      " [[39 37 36]\n",
      "  [22 22 25]]], \n",
      "\n",
      " This is N-D array: \n",
      " [[[[[[33 34 35]\n",
      "     [22 23 24]]\n",
      "\n",
      "    [[39 37 36]\n",
      "     [22 22 25]]]]]]\n",
      "Dimension of 0-D array: \n",
      " 0, \n",
      "\n",
      " Dimension of 1-D array: \n",
      " 1, \n",
      "\n",
      " Dimension of 2-D array: \n",
      " 2, \n",
      "\n",
      " Dimension of 3-D array: \n",
      " 3, \n",
      "\n",
      " Dimension of N-D array: \n",
      " 6\n"
     ]
    }
   ],
   "source": [
    "# 0-D Array\n",
    "O_D = np.array(33)\n",
    "I_D = np.array([32, 65, 12, 33])\n",
    "II_D = np.array([[33, 34, 35],[22, 23, 24]])\n",
    "III_D = np.array([[[33, 34, 35],[22, 23, 24]],[[39, 37, 36],[22, 22, 25]]])\n",
    "\n",
    "#Setting the dimension by 'ndmin'\n",
    "N_D = np.array([[[33, 34, 35],[22, 23, 24]],[[39, 37, 36],[22, 22, 25]]], ndmin=6)\n",
    "\n",
    "# Printing the arrays and their dimensions\n",
    "print('This is 0-D array: \\n {}, \\n\\n This is 1-D array: \\n {}, \\n\\n This is 2-D array: \\n {}, \\n\\n This is 3-D array: \\n {}, \\n\\n This is N-D array: \\n {}'.format(O_D, I_D, II_D, III_D, N_D))\n",
    "\n",
    "print('Dimension of 0-D array: \\n {}, \\n\\n Dimension of 1-D array: \\n {}, \\n\\n Dimension of 2-D array: \\n {}, \\n\\n Dimension of 3-D array: \\n {}, \\n\\n Dimension of N-D array: \\n {}'.format(O_D.ndim, I_D.ndim, II_D.ndim, III_D.ndim, N_D.ndim))"
   ]
  },
  {
   "cell_type": "code",
   "execution_count": 5,
   "metadata": {},
   "outputs": [
    {
     "name": "stdout",
     "output_type": "stream",
     "text": [
      "65\n",
      "34\n",
      "24\n"
     ]
    }
   ],
   "source": [
    "# Accessing an array \n",
    "# I_D = np.array([32, 65, 12, 33])\n",
    "# II_D = np.array([[33, 34, 35],[22, 23, 24]])\n",
    "# III_D = np.array([[[33, 34, 35],[22, 23, 24]],[[39, 37, 36],[22, 22, 25]]])\n",
    "print(I_D[0] + I_D[-1]) # positive indexing access an array frontwise and negative indexing access an array backwise.\n",
    "\n",
    "# Accessing 2-D array\n",
    "print(II_D[0,1]) # here first argument select the element and second aregument access that elements values.\n",
    "\n",
    "# Accessing 3_D array \n",
    "print(III_D[0,1,2]) # first argument 2D array, second one select 1D array and third argument gets the value wanted.\n",
    "\n",
    "# to access nD array we first need to know its dimension and we can input arguments accordingly."
   ]
  },
  {
   "cell_type": "code",
   "execution_count": 7,
   "metadata": {},
   "outputs": [
    {
     "name": "stdout",
     "output_type": "stream",
     "text": [
      "[2 3 4]\n",
      "[1 2 3 4]\n",
      "[5]\n",
      "[]\n",
      "[5 4 3]\n",
      "[2 3 4]\n",
      "[23 24]\n",
      "[23 24]\n",
      "[2 4]\n",
      "[1 3 5]\n"
     ]
    }
   ],
   "source": [
    "# Slicing an Array\n",
    "# Slicing in python means taking elements from one given index to another given index.\n",
    "#arr = np.array([1, 2, 3, 4, 5])\n",
    "# I_D = np.array([32, 65, 12, 33])\n",
    "# II_D = np.array([[33, 34, 35],[22, 23, 24]])\n",
    "# III_D = np.array([[[33, 34, 35],[22, 23, 24]],[[39, 37, 36],[22, 22, 25]]])\n",
    "\n",
    "print(arr[1:4]) #first argument included and second element excluded.\n",
    "print(arr[:4]) # from start to third element\n",
    "print(arr[4:]) # From fourth to last\n",
    "print(arr[-1:-4]) # It will give an empty array because this indexing will start from the last and will go on forward.\n",
    "print(arr[-1:-4:-1]) # however,It will give an array as we have justified the step to go backward.[5,4,3]\n",
    "print(arr[-4:-1]) # This will give [2,3,4]\n",
    "\n",
    "print(II_D[1, 1:4]) # Accessing 2D array\n",
    "print(III_D[0, 1, 1:3]) # Accessing 3D array\n",
    "\n",
    "# Slicing with step \n",
    "print(arr[1:5:2]) # Will include every second element starting from index one.\n",
    "print(arr[::2]) # Will include every second element"
   ]
  },
  {
   "attachments": {},
   "cell_type": "markdown",
   "metadata": {},
   "source": [
    "## Data Types in NumPy\n",
    "* NumPy has some extra data types, and refer to data types with one character, like i for integers, u for unsigned integers etc.\n",
    "\n",
    "* Below is a list of all data types in NumPy and the characters used to represent them.\n",
    "\n",
    "* `i` - integer.\n",
    "* `b` - boolean.\n",
    "* `u` - unsigned integer.\n",
    "* `f` - float.\n",
    "* `c` - complex float.\n",
    "* `m` - timedelta.\n",
    "* `M` - datetime.\n",
    "* `O` - object.\n",
    "* `S` - string.\n",
    "* `U` - unicode string.\n",
    "* `V` - fixed chunk of memory for other type ( void ).\n",
    "* The NumPy array object has a property called `dtype` that returns the data type of the array."
   ]
  },
  {
   "cell_type": "code",
   "execution_count": 9,
   "metadata": {},
   "outputs": [
    {
     "name": "stdout",
     "output_type": "stream",
     "text": [
      "int32\n",
      "[b'1' b'2' b'3' b'4']\n",
      "Data of ar2 is: |S1\n",
      "this is data type of ar: int32 \n",
      "\n",
      " This is the data type of ar1: int32\n"
     ]
    },
    {
     "data": {
      "text/plain": [
       "\" In terms of visual representation and how the array behaves when accessed or manipulated, there won't be any noticeable differences between dtype='i4' and dtype='i' for the given array [1, 2, 3, 4].\\n\\nThe primary distinction lies in the memory allocation and the size of the integer data type used to store each element in the array.\\n\\nBy specifying dtype='i4', you explicitly indicate that each element should be represented as a 32-bit signed integer, allocating 4 bytes of memory for each element.\\n\\nOn the other hand, using dtype='i' lets NumPy choose the default integer data type based on the platform's architecture. This default data type is often either a 32-bit or 64-bit signed integer, depending on the platform. This choice affects the memory allocation for each element accordingly.\\n\\nIn terms of functionality and behavior, both arrays will behave similarly for basic operations. However, the memory usage and potential impact on performance may differ depending on the size of the data type chosen.\""
      ]
     },
     "execution_count": 9,
     "metadata": {},
     "output_type": "execute_result"
    }
   ],
   "source": [
    "# Getting to know the data type.\n",
    "print(arr.dtype) # Result will be according to the element of that array.\n",
    "ar2 = np.array([1, 2, 3, 4], dtype='S')\n",
    "\n",
    "print(ar2)\n",
    "print('Data of ar2 is:',ar2.dtype)\n",
    "\n",
    "# Creating data types with specified data types. For i, u, f, S and U we can define size as well.\n",
    "ar = np.array([34, 56, 75], dtype='i4')\n",
    "ar1 = np.array([34, 56, 75])\n",
    "print('this is data type of ar: {} \\n\\n This is the data type of ar1: {}'.format(ar.dtype, ar1.dtype))\n",
    "\n",
    "\"\"\" In terms of visual representation and how the array behaves when accessed or manipulated, there won't be any noticeable differences between dtype='i4' and dtype='i' for the given array [1, 2, 3, 4].\n",
    "\n",
    "The primary distinction lies in the memory allocation and the size of the integer data type used to store each element in the array.\n",
    "\n",
    "By specifying dtype='i4', you explicitly indicate that each element should be represented as a 32-bit signed integer, allocating 4 bytes of memory for each element.\n",
    "\n",
    "On the other hand, using dtype='i' lets NumPy choose the default integer data type based on the platform's architecture. This default data type is often either a 32-bit or 64-bit signed integer, depending on the platform. This choice affects the memory allocation for each element accordingly.\n",
    "\n",
    "In terms of functionality and behavior, both arrays will behave similarly for basic operations. However, the memory usage and potential impact on performance may differ depending on the size of the data type chosen.\"\"\""
   ]
  },
  {
   "attachments": {},
   "cell_type": "markdown",
   "metadata": {},
   "source": [
    "### What if a Value Can Not Be Converted?\n",
    "If a type is given in which elements can't be casted then NumPy will raise a ValueError.\n",
    "\n",
    "> **ValueError:** In Python ValueError is raised when the type of passed argument to a function is unexpected/incorrect."
   ]
  },
  {
   "cell_type": "code",
   "execution_count": 10,
   "metadata": {},
   "outputs": [
    {
     "ename": "ValueError",
     "evalue": "invalid literal for int() with base 10: 'a'",
     "output_type": "error",
     "traceback": [
      "\u001b[1;31m---------------------------------------------------------------------------\u001b[0m",
      "\u001b[1;31mValueError\u001b[0m                                Traceback (most recent call last)",
      "\u001b[1;32m~\\AppData\\Local\\Temp\\ipykernel_760\\2412059287.py\u001b[0m in \u001b[0;36m<module>\u001b[1;34m\u001b[0m\n\u001b[0;32m      1\u001b[0m \u001b[1;31m# A non integer string like 'a' can not be converted to integer (will raise an error):\u001b[0m\u001b[1;33m\u001b[0m\u001b[1;33m\u001b[0m\u001b[1;33m\u001b[0m\u001b[0m\n\u001b[0;32m      2\u001b[0m \u001b[1;33m\u001b[0m\u001b[0m\n\u001b[1;32m----> 3\u001b[1;33m \u001b[0mar4\u001b[0m\u001b[1;33m=\u001b[0m \u001b[0mnp\u001b[0m\u001b[1;33m.\u001b[0m\u001b[0marray\u001b[0m\u001b[1;33m(\u001b[0m\u001b[1;33m[\u001b[0m\u001b[1;34m'a'\u001b[0m\u001b[1;33m,\u001b[0m \u001b[1;34m'2'\u001b[0m\u001b[1;33m,\u001b[0m \u001b[1;34m'3'\u001b[0m\u001b[1;33m]\u001b[0m\u001b[1;33m,\u001b[0m \u001b[0mdtype\u001b[0m\u001b[1;33m=\u001b[0m\u001b[1;34m'i'\u001b[0m\u001b[1;33m)\u001b[0m\u001b[1;33m\u001b[0m\u001b[1;33m\u001b[0m\u001b[0m\n\u001b[0m",
      "\u001b[1;31mValueError\u001b[0m: invalid literal for int() with base 10: 'a'"
     ]
    }
   ],
   "source": [
    "# A non integer string like 'a' can not be converted to integer (will raise an error):\n",
    "ar4= np.array(['a', '2', '3'], dtype='i')"
   ]
  },
  {
   "attachments": {},
   "cell_type": "markdown",
   "metadata": {},
   "source": [
    "## Converting Data Type on Existing Arrays\n",
    "> The best way to change the data type of an existing array, is to make a copy of the array with the astype() method.\n",
    "\n",
    "**The astype() function creates a copy of the array, and allows you to specify the data type as a parameter.**\n",
    "\n",
    "The data type can be specified using a string, like 'f' for float, 'i' for integer etc. or you can use the data type directly like float for float and int for integer."
   ]
  },
  {
   "cell_type": "code",
   "execution_count": 13,
   "metadata": {},
   "outputs": [
    {
     "name": "stdout",
     "output_type": "stream",
     "text": [
      "[1 0 2 3]\n",
      "[ True False  True  True]\n",
      "int32\n",
      "bool\n"
     ]
    }
   ],
   "source": [
    "ar5 = np.array([1.1, 0, 2.1, 3.1])\n",
    "\n",
    "newarr = ar5.astype('i') # newarr = arr.astype(int), int as parameter or newarr = arr.astype(bool), bool for boolean.\n",
    "newar5 = ar5.astype(bool)\n",
    "print(newarr)\n",
    "print(newar5)\n",
    "print(newarr.dtype)\n",
    "print(newar5.dtype)"
   ]
  },
  {
   "cell_type": "code",
   "execution_count": null,
   "metadata": {},
   "outputs": [],
   "source": []
  }
 ],
 "metadata": {
  "kernelspec": {
   "display_name": "Python 3",
   "language": "python",
   "name": "python3"
  },
  "language_info": {
   "codemirror_mode": {
    "name": "ipython",
    "version": 3
   },
   "file_extension": ".py",
   "mimetype": "text/x-python",
   "name": "python",
   "nbconvert_exporter": "python",
   "pygments_lexer": "ipython3",
   "version": "3.7.3"
  },
  "orig_nbformat": 4
 },
 "nbformat": 4,
 "nbformat_minor": 2
}
