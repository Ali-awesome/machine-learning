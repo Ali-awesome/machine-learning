{
 "cells": [
  {
   "attachments": {},
   "cell_type": "markdown",
   "metadata": {},
   "source": [
    "## Introduction to Numpy\n",
    "* NumPy is a python library.\n",
    "* Can work in the domain of linear algebra, fourier transformation and matrices.\n",
    "* NumPy stands for Numerical Python.\n",
    "* NumPy uses the array object called `ndarray`.\n",
    "* NumPy array is faster than list because it uses a memory allocation system named **contiguous memory allocation**. [More Info](https://www.geeksforgeeks.org/python-lists-vs-numpy-arrays/)\n",
    "* **Contiguous Memory Allocation**: Contiguous memory allocation is basically a method in which a single contiguous section/part of memory is allocated to a process or file needing it. Because of this all the available memory space resides at the same place together, which means that the freely/unused available memory partitions are not distributed in a random fashion here and there across the whole memory space.  [More Info](https://www.geeksforgeeks.org/difference-between-contiguous-and-noncontiguous-memory-allocation/) and a [Youtube](https://youtu.be/eHzUtmPGfJw) video.\n",
    "\n",
    "    ![Contiguous Memory](../images/coniguousMemory.jpg)\n",
    "* NumPy is a Python library and is written partially in Python, but most of the parts that require fast computation are written in **C or C++**.\n",
    "* The source code for NumPy is located at this [github repository](https://github.com/numpy/numpy)."
   ]
  },
  {
   "attachments": {},
   "cell_type": "markdown",
   "metadata": {},
   "source": [
    "### Some important points about Numpy arrays:\n",
    "\n",
    "* We can create an N-dimensional array in python using `Numpy.array()`.\n",
    "* The array is by default Homogeneous, which means data inside an array must be of the same Datatype. (**Note you can also create a structured array in python**).\n",
    "* Element-wise operation is possible.\n",
    "* Numpy array has various functions, methods, and variables, to ease our task of matrix computation.\n",
    "* Elements of an array are stored contiguously in memory. For example, all rows of a two-dimensioned array must have the same number of columns. Or a three dimensioned array must have the same number of rows and columns on each card."
   ]
  },
  {
   "cell_type": "code",
   "execution_count": 1,
   "metadata": {},
   "outputs": [
    {
     "data": {
      "text/plain": [
       "<module 'numpy' from 'e:\\\\app\\\\Python\\\\lib\\\\site-packages\\\\numpy\\\\__init__.py'>"
      ]
     },
     "execution_count": 1,
     "metadata": {},
     "output_type": "execute_result"
    }
   ],
   "source": [
    "#Importing NumPy as alias np\n",
    "import numpy as np\n",
    "np"
   ]
  },
  {
   "cell_type": "code",
   "execution_count": 2,
   "metadata": {},
   "outputs": [
    {
     "name": "stdout",
     "output_type": "stream",
     "text": [
      "1.21.6\n"
     ]
    }
   ],
   "source": [
    "# Version Check\n",
    "print(np.__version__)"
   ]
  },
  {
   "attachments": {},
   "cell_type": "markdown",
   "metadata": {},
   "source": [
    "## All'bout Array"
   ]
  },
  {
   "cell_type": "code",
   "execution_count": 3,
   "metadata": {},
   "outputs": [
    {
     "name": "stdout",
     "output_type": "stream",
     "text": [
      "This is Array [1 2 3 4 5] and this created in an alternative way [1 2 3 4 5]\n",
      "Both this <class 'numpy.ndarray'> and this <class 'numpy.ndarray'> same type\n",
      "None\n",
      "[1 5 6]\n",
      "<class 'numpy.ndarray'>\n"
     ]
    }
   ],
   "source": [
    "# Creating NumPy arrays\n",
    "arr = np.array([1, 2, 3, 4, 5])\n",
    "# Alternative way\n",
    "alArr = np.arange(1,6)\n",
    "print('This is Array {} and this created in an alternative way {}'.format(arr, alArr))\n",
    "print(print('Both this {} and this {} same type'.format(type(arr), type(alArr))))\n",
    "\n",
    "# To create an ndarray, we can pass a list, tuple or any array-like object into the array() method, and it will be converted into an ndarray\n",
    "itTuple = (1, 5, 6)\n",
    "convertedArray = np.array(itTuple)\n",
    "print(convertedArray)\n",
    "print(type(convertedArray))\n"
   ]
  },
  {
   "attachments": {},
   "cell_type": "markdown",
   "metadata": {},
   "source": [
    "### Dimension of Array\n",
    "* A dimension in arrays is one level of array depth (nested array).\n",
    "* **Nested Array**: Nested arrays that have arrays as their elements.\n",
    "* 0-D arrays, or Scalars, are the elements in an array. Each value in an array is a 0-D array.\n",
    "* An array that has 0-D arrays as its elements is called uni-dimensional or 1-D array.\n",
    "* An array that has 1-D arrays as its elements is called a 2-D array. These are often used to represent matrix or 2nd order tensors.\n",
    "* An array that has 2-D arrays (matrices) as its elements is called 3-D array. These are often used to represent a 3rd order tensor.\n",
    "* An array can have any number of dimensions. When the array is created, you can define the number of dimensions by using the ndmin argument."
   ]
  },
  {
   "cell_type": "code",
   "execution_count": 4,
   "metadata": {},
   "outputs": [
    {
     "name": "stdout",
     "output_type": "stream",
     "text": [
      "This is 0-D array: \n",
      " 33, \n",
      "\n",
      " This is 1-D array: \n",
      " [32 65 12 33], \n",
      "\n",
      " This is 2-D array: \n",
      " [[33 34 35]\n",
      " [22 23 24]], \n",
      "\n",
      " This is 3-D array: \n",
      " [[[33 34 35]\n",
      "  [22 23 24]]\n",
      "\n",
      " [[39 37 36]\n",
      "  [22 22 25]]], \n",
      "\n",
      " This is N-D array: \n",
      " [[[[[[33 34 35]\n",
      "     [22 23 24]]\n",
      "\n",
      "    [[39 37 36]\n",
      "     [22 22 25]]]]]]\n",
      "Dimension of 0-D array: \n",
      " 0, \n",
      "\n",
      " Dimension of 1-D array: \n",
      " 1, \n",
      "\n",
      " Dimension of 2-D array: \n",
      " 2, \n",
      "\n",
      " Dimension of 3-D array: \n",
      " 3, \n",
      "\n",
      " Dimension of N-D array: \n",
      " 6\n"
     ]
    }
   ],
   "source": [
    "# 0-D Array\n",
    "O_D = np.array(33)\n",
    "I_D = np.array([32, 65, 12, 33])\n",
    "II_D = np.array([[33, 34, 35],[22, 23, 24]])\n",
    "III_D = np.array([[[33, 34, 35],[22, 23, 24]],[[39, 37, 36],[22, 22, 25]]])\n",
    "\n",
    "#Setting the dimension by 'ndmin'\n",
    "N_D = np.array([[[33, 34, 35],[22, 23, 24]],[[39, 37, 36],[22, 22, 25]]], ndmin=6)\n",
    "\n",
    "# Printing the arrays and their dimensions\n",
    "print('This is 0-D array: \\n {}, \\n\\n This is 1-D array: \\n {}, \\n\\n This is 2-D array: \\n {}, \\n\\n This is 3-D array: \\n {}, \\n\\n This is N-D array: \\n {}'.format(O_D, I_D, II_D, III_D, N_D))\n",
    "\n",
    "print('Dimension of 0-D array: \\n {}, \\n\\n Dimension of 1-D array: \\n {}, \\n\\n Dimension of 2-D array: \\n {}, \\n\\n Dimension of 3-D array: \\n {}, \\n\\n Dimension of N-D array: \\n {}'.format(O_D.ndim, I_D.ndim, II_D.ndim, III_D.ndim, N_D.ndim))"
   ]
  },
  {
   "cell_type": "code",
   "execution_count": 5,
   "metadata": {},
   "outputs": [
    {
     "name": "stdout",
     "output_type": "stream",
     "text": [
      "65\n",
      "34\n",
      "24\n"
     ]
    }
   ],
   "source": [
    "# Accessing an array \n",
    "# I_D = np.array([32, 65, 12, 33])\n",
    "# II_D = np.array([[33, 34, 35],[22, 23, 24]])\n",
    "# III_D = np.array([[[33, 34, 35],[22, 23, 24]],[[39, 37, 36],[22, 22, 25]]])\n",
    "print(I_D[0] + I_D[-1]) # positive indexing access an array frontwise and negative indexing access an array backwise.\n",
    "\n",
    "# Accessing 2-D array\n",
    "print(II_D[0,1]) # here first argument select the element and second aregument access that elements values.\n",
    "\n",
    "# Accessing 3_D array \n",
    "print(III_D[0,1,2]) # first argument 2D array, second one select 1D array and third argument gets the value wanted.\n",
    "\n",
    "# to access nD array we first need to know its dimension and we can input arguments accordingly."
   ]
  },
  {
   "cell_type": "code",
   "execution_count": 6,
   "metadata": {},
   "outputs": [
    {
     "name": "stdout",
     "output_type": "stream",
     "text": [
      "[2 3 4]\n",
      "[1 2 3 4]\n",
      "[5]\n",
      "[]\n",
      "[5 4 3]\n",
      "[2 3 4]\n",
      "[23 24]\n",
      "[23 24]\n",
      "[2 4]\n",
      "[1 3 5]\n"
     ]
    }
   ],
   "source": [
    "# Slicing an Array\n",
    "# Slicing in python means taking elements from one given index to another given index.\n",
    "#arr = np.array([1, 2, 3, 4, 5])\n",
    "# I_D = np.array([32, 65, 12, 33])\n",
    "# II_D = np.array([[33, 34, 35],[22, 23, 24]])\n",
    "# III_D = np.array([[[33, 34, 35],[22, 23, 24]],[[39, 37, 36],[22, 22, 25]]])\n",
    "\n",
    "print(arr[1:4]) #first argument included and second element excluded.\n",
    "print(arr[:4]) # from start to third element\n",
    "print(arr[4:]) # From fourth to last\n",
    "print(arr[-1:-4]) # It will give an empty array because this indexing will start from the last and will go on forward.\n",
    "print(arr[-1:-4:-1]) # however,It will give an array as we have justified the step to go backward.[5,4,3]\n",
    "print(arr[-4:-1]) # This will give [2,3,4]\n",
    "\n",
    "print(II_D[1, 1:4]) # Accessing 2D array\n",
    "print(III_D[0, 1, 1:3]) # Accessing 3D array\n",
    "\n",
    "# Slicing with step \n",
    "print(arr[1:5:2]) # Will include every second element starting from index one.\n",
    "print(arr[::2]) # Will include every second element"
   ]
  },
  {
   "attachments": {},
   "cell_type": "markdown",
   "metadata": {},
   "source": [
    "## Data Types in NumPy\n",
    "* NumPy has some extra data types, and refer to data types with one character, like i for integers, u for unsigned integers etc.\n",
    "\n",
    "* Below is a list of all data types in NumPy and the characters used to represent them.\n",
    "\n",
    "* `i` - integer.\n",
    "* `b` - boolean.\n",
    "* `u` - unsigned integer.\n",
    "* `f` - float.\n",
    "* `c` - complex float.\n",
    "* `m` - timedelta.\n",
    "* `M` - datetime.\n",
    "* `O` - object.\n",
    "* `S` - string.\n",
    "* `U` - unicode string.\n",
    "* `V` - fixed chunk of memory for other type ( void ).\n",
    "* The NumPy array object has a property called `dtype` that returns the data type of the array."
   ]
  },
  {
   "cell_type": "code",
   "execution_count": 7,
   "metadata": {},
   "outputs": [
    {
     "name": "stdout",
     "output_type": "stream",
     "text": [
      "int32\n",
      "[b'1' b'2' b'3' b'4']\n",
      "Data of ar2 is: |S1\n",
      "this is data type of ar: int32 \n",
      "\n",
      " This is the data type of ar1: int32\n"
     ]
    },
    {
     "data": {
      "text/plain": [
       "\" In terms of visual representation and how the array behaves when accessed or manipulated, there won't be any noticeable differences between dtype='i4' and dtype='i' for the given array [1, 2, 3, 4].\\n\\nThe primary distinction lies in the memory allocation and the size of the integer data type used to store each element in the array.\\n\\nBy specifying dtype='i4', you explicitly indicate that each element should be represented as a 32-bit signed integer, allocating 4 bytes of memory for each element.\\n\\nOn the other hand, using dtype='i' lets NumPy choose the default integer data type based on the platform's architecture. This default data type is often either a 32-bit or 64-bit signed integer, depending on the platform. This choice affects the memory allocation for each element accordingly.\\n\\nIn terms of functionality and behavior, both arrays will behave similarly for basic operations. However, the memory usage and potential impact on performance may differ depending on the size of the data type chosen.\""
      ]
     },
     "execution_count": 7,
     "metadata": {},
     "output_type": "execute_result"
    }
   ],
   "source": [
    "# Getting to know the data type.\n",
    "print(arr.dtype) # Result will be according to the element of that array.\n",
    "ar2 = np.array([1, 2, 3, 4], dtype='S')\n",
    "\n",
    "print(ar2)\n",
    "print('Data of ar2 is:',ar2.dtype)\n",
    "\n",
    "# Creating data types with specified data types. For i, u, f, S and U we can define size as well.\n",
    "ar = np.array([34, 56, 75], dtype='i4')\n",
    "ar1 = np.array([34, 56, 75])\n",
    "print('this is data type of ar: {} \\n\\n This is the data type of ar1: {}'.format(ar.dtype, ar1.dtype))\n",
    "\n",
    "\"\"\" In terms of visual representation and how the array behaves when accessed or manipulated, there won't be any noticeable differences between dtype='i4' and dtype='i' for the given array [1, 2, 3, 4].\n",
    "\n",
    "The primary distinction lies in the memory allocation and the size of the integer data type used to store each element in the array.\n",
    "\n",
    "By specifying dtype='i4', you explicitly indicate that each element should be represented as a 32-bit signed integer, allocating 4 bytes of memory for each element.\n",
    "\n",
    "On the other hand, using dtype='i' lets NumPy choose the default integer data type based on the platform's architecture. This default data type is often either a 32-bit or 64-bit signed integer, depending on the platform. This choice affects the memory allocation for each element accordingly.\n",
    "\n",
    "In terms of functionality and behavior, both arrays will behave similarly for basic operations. However, the memory usage and potential impact on performance may differ depending on the size of the data type chosen.\"\"\""
   ]
  },
  {
   "attachments": {},
   "cell_type": "markdown",
   "metadata": {},
   "source": [
    "### What if a Value Can Not Be Converted?\n",
    "If a type is given in which elements can't be casted then NumPy will raise a ValueError.\n",
    "\n",
    "> **ValueError:** In Python ValueError is raised when the type of passed argument to a function is unexpected/incorrect."
   ]
  },
  {
   "cell_type": "code",
   "execution_count": 8,
   "metadata": {},
   "outputs": [
    {
     "ename": "ValueError",
     "evalue": "invalid literal for int() with base 10: 'a'",
     "output_type": "error",
     "traceback": [
      "\u001b[1;31m---------------------------------------------------------------------------\u001b[0m",
      "\u001b[1;31mValueError\u001b[0m                                Traceback (most recent call last)",
      "\u001b[1;32m~\\AppData\\Local\\Temp\\ipykernel_10088\\4134251127.py\u001b[0m in \u001b[0;36m<module>\u001b[1;34m\u001b[0m\n\u001b[0;32m      1\u001b[0m \u001b[1;31m# A non integer string like 'a' can not be converted to integer (will raise an error):\u001b[0m\u001b[1;33m\u001b[0m\u001b[1;33m\u001b[0m\u001b[1;33m\u001b[0m\u001b[0m\n\u001b[1;32m----> 2\u001b[1;33m \u001b[0mar4\u001b[0m\u001b[1;33m=\u001b[0m \u001b[0mnp\u001b[0m\u001b[1;33m.\u001b[0m\u001b[0marray\u001b[0m\u001b[1;33m(\u001b[0m\u001b[1;33m[\u001b[0m\u001b[1;34m'a'\u001b[0m\u001b[1;33m,\u001b[0m \u001b[1;34m'2'\u001b[0m\u001b[1;33m,\u001b[0m \u001b[1;34m'3'\u001b[0m\u001b[1;33m]\u001b[0m\u001b[1;33m,\u001b[0m \u001b[0mdtype\u001b[0m\u001b[1;33m=\u001b[0m\u001b[1;34m'i'\u001b[0m\u001b[1;33m)\u001b[0m\u001b[1;33m\u001b[0m\u001b[1;33m\u001b[0m\u001b[0m\n\u001b[0m",
      "\u001b[1;31mValueError\u001b[0m: invalid literal for int() with base 10: 'a'"
     ]
    }
   ],
   "source": [
    "# A non integer string like 'a' can not be converted to integer (will raise an error):\n",
    "ar4= np.array(['a', '2', '3'], dtype='i')"
   ]
  },
  {
   "attachments": {},
   "cell_type": "markdown",
   "metadata": {},
   "source": [
    "## Converting Data Type on Existing Arrays\n",
    "> The best way to change the data type of an existing array, is to make a copy of the array with the astype() method.\n",
    "\n",
    "**The astype() function creates a copy of the array, and allows you to specify the data type as a parameter.**\n",
    "\n",
    "The data type can be specified using a string, like 'f' for float, 'i' for integer etc. or you can use the data type directly like float for float and int for integer."
   ]
  },
  {
   "cell_type": "code",
   "execution_count": null,
   "metadata": {},
   "outputs": [
    {
     "name": "stdout",
     "output_type": "stream",
     "text": [
      "[1 0 2 3]\n",
      "[ True False  True  True]\n",
      "int32\n",
      "bool\n"
     ]
    }
   ],
   "source": [
    "ar5 = np.array([1.1, 0, 2.1, 3.1])\n",
    "\n",
    "newarr = ar5.astype('i') # newarr = arr.astype(int), int as parameter or newarr = arr.astype(bool), bool for boolean.\n",
    "newar5 = ar5.astype(bool)\n",
    "print(newarr)\n",
    "print(newar5)\n",
    "print(newarr.dtype)\n",
    "print(newar5.dtype)"
   ]
  },
  {
   "cell_type": "code",
   "execution_count": null,
   "metadata": {},
   "outputs": [
    {
     "name": "stdout",
     "output_type": "stream",
     "text": [
      "This is original ['ali' 'naeem' 'sadaf' 'rabby' 'fayed']\n",
      "This is copy ['ali' 'naeem' 'sadaf' 'rabby' 'nowshad']\n",
      "This is view ['ali' 'naeem' 'sadaf' 'rabby' 'fayed']\n",
      "None\n",
      "['ali' 'naeem' 'sadaf' 'rabby' 'fayed']\n"
     ]
    }
   ],
   "source": [
    "# Numpy COPY vs VIEW\n",
    "newone = np.array(['ali', 'naeem', 'sadaf', 'rabby', 'nowshad'])\n",
    "x1 = newone.copy() # it is new copy of original and ows the  elements of the newone array. Changing newone array will not affect x1.\n",
    "x2 = newone.view() # Changing newone array will not affect x1.\n",
    "newone[-1] = 'fayed'\n",
    "print('This is original',newone)\n",
    "print('This is copy',x1)\n",
    "print('This is view',x2)\n",
    "\n",
    "# Check if Array Owns its Data\n",
    "# As mentioned above, copies owns the data, and views does not own the data.\n",
    "# Every NumPy array has the attribute base that returns None if the array owns the data.\n",
    "# Otherwise, the base  attribute refers to the original object.\n",
    "\n",
    "print(x1.base) # it will return none as it owns the data.\n",
    "print(x2.base) # it will refer to the original as it doesn't own the data."
   ]
  },
  {
   "cell_type": "code",
   "execution_count": null,
   "metadata": {},
   "outputs": [
    {
     "name": "stdout",
     "output_type": "stream",
     "text": [
      "(2, 7)\n",
      "(1, 1, 1, 1, 1, 5)\n",
      "[[ 1  2  3]\n",
      " [ 4  5  6]\n",
      " [ 7  8  9]\n",
      " [10 11 12]]\n",
      "[[[ 1  2]\n",
      "  [ 3  4]]\n",
      "\n",
      " [[ 5  6]\n",
      "  [ 7  8]]\n",
      "\n",
      " [[ 9 10]\n",
      "  [11 12]]]\n",
      "[[[ 1  2]\n",
      "  [ 3  4]]\n",
      "\n",
      " [[ 5  6]\n",
      "  [ 7  8]]\n",
      "\n",
      " [[ 9 10]\n",
      "  [11 12]]]\n",
      "[[[ 1  2]\n",
      "  [ 3  4]]\n",
      "\n",
      " [[ 5  6]\n",
      "  [ 7  8]]\n",
      "\n",
      " [[ 9 10]\n",
      "  [11 12]]]\n",
      "(12,)\n"
     ]
    }
   ],
   "source": [
    "# Shape of You(Array)\n",
    "# The shape of an array is the number of elements in each dimension.\n",
    "ar7 = np.array([[1,2,3,4,5,6,7],[2,3,4,5,6,7,8]])\n",
    "print(ar7.shape) # it will return (2,7) which means it has 2 dimensions where first one has 2 elements and the second one has 7 elements\n",
    "# Note that every array has to have same amount of elements. otherwise it will invoke deprication error.\n",
    "ar6 = np.array([1,2,3,4,6], ndmin=6)\n",
    "print(ar6.shape) # it will return the shape tuple (1,1,1,1,1,5)\n",
    "\n",
    "\n",
    "# By reshaping we can add or remove dimensions or change number of elements in each dimension.\n",
    "ar8 = np.array([1, 2, 3, 4, 5, 6, 7, 8, 9, 10, 11, 12])\n",
    "ar9 = ar8.reshape(4,3)\n",
    "print(ar9) # 1D to 2D\n",
    "# The product of the arguments within reshape fuction has to be equal to the total amount of array element. Otherwise it will invoke an error.\n",
    "print(ar8.reshape(3,2,2)) # 1D to 3D\n",
    "print(ar9.reshape(3,2,2)) # 2D to 3D\n",
    "print(ar8.reshape(3,2,-1)) # 1D to 3D with an unknown dimension, NumPy will calculate it for us.\n",
    "\n",
    "ar10 = ar9.reshape(3,2,2)\n",
    "x3 = ar10.reshape(-1) # 3D to 1D, it is also called flattening an array.\n",
    "print(x3.shape)\n",
    "\n",
    "# There are a lot of functions for changing the shapes of arrays in numpy flatten, ravel and also for rearranging the elements rot90, flip, fliplr, flipud etc. These fall under Intermediate to Advanced section of numpy."
   ]
  },
  {
   "cell_type": "code",
   "execution_count": null,
   "metadata": {},
   "outputs": [
    {
     "name": "stdout",
     "output_type": "stream",
     "text": [
      "Elements of y1 1\n",
      "Elements of y1 2\n",
      "Elements of y1 3\n",
      "Elements of y1 4\n",
      "Elements of y1 5\n",
      "Elements of y1 6\n",
      "Elements of y1 7\n",
      "Elements of y1 8\n",
      "Elements of y1 9\n",
      "Elements of y1 10\n",
      "Elements of y1 11\n",
      "Elements of y1 12\n",
      "Elements of y2 [[ 7  8  9]\n",
      " [10 11 12]]\n",
      "All elements of y2 [[ 7  8  9]\n",
      " [10 11 12]]\n",
      "All elements of y2 [[ 7  8  9]\n",
      " [10 11 12]]\n",
      "Elements of y3 [[1 2 3]\n",
      " [4 5 6]]\n",
      "Elements of y3 [[ 7  8  9]\n",
      " [10 11 12]]\n",
      "All elements of y3 [[1 2 3]\n",
      " [4 5 6]]\n",
      "All elements of y3 [[1 2 3]\n",
      " [4 5 6]]\n",
      "All elements of y3 [[1 2 3]\n",
      " [4 5 6]]\n",
      "All elements of y3 [[1 2 3]\n",
      " [4 5 6]]\n",
      "All elements of y3 [[1 2 3]\n",
      " [4 5 6]]\n",
      "All elements of y3 [[1 2 3]\n",
      " [4 5 6]]\n",
      "All elements of y3 [[ 7  8  9]\n",
      " [10 11 12]]\n",
      "All elements of y3 [[ 7  8  9]\n",
      " [10 11 12]]\n",
      "All elements of y3 [[ 7  8  9]\n",
      " [10 11 12]]\n",
      "All elements of y3 [[ 7  8  9]\n",
      " [10 11 12]]\n",
      "All elements of y3 [[ 7  8  9]\n",
      " [10 11 12]]\n",
      "All elements of y3 [[ 7  8  9]\n",
      " [10 11 12]]\n",
      "All elements using nditer 1\n",
      "All elements using nditer 2\n",
      "All elements using nditer 3\n",
      "All elements using nditer 4\n",
      "All elements using nditer 5\n",
      "All elements using nditer 6\n",
      "All elements using nditer 7\n",
      "All elements using nditer 8\n",
      "All elements using nditer 9\n",
      "All elements using nditer 10\n",
      "All elements using nditer 11\n",
      "All elements using nditer 12\n",
      "Converting all the elements to string b'1'\n",
      "Converting all the elements to string b'2'\n",
      "Converting all the elements to string b'3'\n",
      "Converting all the elements to string b'4'\n",
      "Converting all the elements to string b'5'\n",
      "Converting all the elements to string b'6'\n",
      "Converting all the elements to string b'7'\n",
      "Converting all the elements to string b'8'\n",
      "Converting all the elements to string b'9'\n",
      "Converting all the elements to string b'10'\n",
      "Converting all the elements to string b'11'\n",
      "Converting all the elements to string b'12'\n",
      "Printing with skiping steps 7\n",
      "Printing with skiping steps 8\n",
      "Printing with skiping steps 9\n",
      "(0,) 1\n",
      "(1,) 2\n",
      "(2,) 3\n",
      "(3,) 4\n",
      "(4,) 5\n",
      "(5,) 6\n",
      "(6,) 7\n",
      "(7,) 8\n",
      "(8,) 9\n",
      "(9,) 10\n",
      "(10,) 11\n",
      "(11,) 12\n",
      "(0, 0, 0) 7\n",
      "(0, 0, 1) 8\n",
      "(0, 0, 2) 9\n",
      "(0, 1, 0) 10\n",
      "(0, 1, 1) 11\n",
      "(0, 1, 2) 12\n",
      "(0, 0, 0) 1\n",
      "(0, 0, 1) 2\n",
      "(0, 0, 2) 3\n",
      "(0, 1, 0) 4\n",
      "(0, 1, 1) 5\n",
      "(0, 1, 2) 6\n",
      "(1, 0, 0) 7\n",
      "(1, 0, 1) 8\n",
      "(1, 0, 2) 9\n",
      "(1, 1, 0) 10\n",
      "(1, 1, 1) 11\n",
      "(1, 1, 2) 12\n"
     ]
    }
   ],
   "source": [
    "# Iterating through the array\n",
    "# Using for loop\n",
    "y1 = np.array([1, 2, 3, 4, 5, 6, 7, 8, 9, 10, 11, 12])\n",
    "y2 = np.array([[[7, 8, 9], [10, 11, 12]]])\n",
    "y3 = np.array([[[1, 2, 3], [4, 5, 6]], [[7, 8, 9], [10, 11, 12]]])\n",
    "\n",
    "for x in y1:\n",
    "    print('Elements of y1',x)\n",
    "\n",
    "for x in y2:\n",
    "    print('Elements of y2',x)\n",
    "\n",
    "for x in y2:\n",
    "    for y in x:\n",
    "        print('All elements of y2', x)    \n",
    "\n",
    "for x in y3:\n",
    "    print('Elements of y3',x)\n",
    "\n",
    "for x in y3:\n",
    "    for y in x:\n",
    "        for z in y:\n",
    "            print('All elements of y3',x)\n",
    "\n",
    "# Using nditter we don't need to repeat for loop\n",
    "for x in np.nditer(y3):\n",
    "    print('All elements using nditer',x)\n",
    "\n",
    "# To print the output with different data types\n",
    "for x in np.nditer(y1, flags=['buffered'], op_dtypes=['S']):\n",
    "  print('Converting all the elements to string',x)\n",
    "\n",
    "# Printing with skiping steps\n",
    "for x in np.nditer(y2[:, ::2]):\n",
    "  print('Printing with skiping steps',x)\n",
    "\n",
    "# Enamurating the elements\n",
    "for idx, x in np.ndenumerate(y1):\n",
    "  print(idx, x)\n",
    "for idx, x in np.ndenumerate(y2):\n",
    "  print(idx, x)\n",
    "for idx, x in np.ndenumerate(y3):\n",
    "  print(idx, x)"
   ]
  },
  {
   "cell_type": "code",
   "execution_count": null,
   "metadata": {},
   "outputs": [
    {
     "name": "stdout",
     "output_type": "stream",
     "text": [
      "This array is made from concatenate [1 2 3 3 4 5]\n",
      "This 2D array is made from concatenate [[3 4 5 3 4 5]\n",
      " [1 2 3 4 7 9]]\n",
      "This 2D array is made from stack [[1 3]\n",
      " [2 4]\n",
      " [3 5]]\n",
      "This 2D array is made from hstack [1 2 3 3 4 5]\n",
      "This 2D array is made from vstack [[1 2 3]\n",
      " [3 4 5]]\n",
      "This 2D array is made from dstack [[[1 3]\n",
      "  [2 4]\n",
      "  [3 5]]]\n"
     ]
    }
   ],
   "source": [
    "# Joining arrays\n",
    "# Joining means putting contents of two or more arrays in a single array.\n",
    "# In SQL we join tables based on a key, whereas in NumPy we join arrays by axes.\n",
    "\n",
    "z1 = np.array([1,2,3])\n",
    "z2 = np.array([3,4,5])\n",
    "z3 = np.array([[3,4,5],[1,2,3]])\n",
    "z4 = np.array([[3,4,5],[4,7,9]])\n",
    "\n",
    "print('This array is made from concatenate',np.concatenate((z1,z2)))\n",
    "print('This 2D array is made from concatenate',np.concatenate((z3,z4),axis=1))\n",
    "print('This 2D array is made from stack',np.stack((z1,z2),axis=1))\n",
    "print('This 2D array is made from hstack',np.hstack((z1,z2)))\n",
    "print('This 2D array is made from vstack',np.vstack((z1,z2)))\n",
    "print('This 2D array is made from dstack',np.dstack((z1,z2)))"
   ]
  },
  {
   "cell_type": "code",
   "execution_count": null,
   "metadata": {},
   "outputs": [
    {
     "name": "stdout",
     "output_type": "stream",
     "text": [
      "Spliting an array [array([1, 2, 3, 4]), array([5, 6, 7, 8]), array([ 9, 10, 11, 12])]\n",
      "Spliting an array [array([1, 2, 3, 4]), array([5, 6, 7, 8]), array([ 9, 10, 11, 12])]\n"
     ]
    },
    {
     "ename": "ValueError",
     "evalue": "array split does not result in an equal division",
     "output_type": "error",
     "traceback": [
      "\u001b[1;31m---------------------------------------------------------------------------\u001b[0m",
      "\u001b[1;31mValueError\u001b[0m                                Traceback (most recent call last)",
      "\u001b[1;32m~\\AppData\\Local\\Temp\\ipykernel_8140\\1127802162.py\u001b[0m in \u001b[0;36m<module>\u001b[1;34m\u001b[0m\n\u001b[0;32m      3\u001b[0m \u001b[0mprint\u001b[0m\u001b[1;33m(\u001b[0m\u001b[1;34m'Spliting an array'\u001b[0m\u001b[1;33m,\u001b[0m\u001b[0mnp\u001b[0m\u001b[1;33m.\u001b[0m\u001b[0marray_split\u001b[0m\u001b[1;33m(\u001b[0m\u001b[0my1\u001b[0m\u001b[1;33m,\u001b[0m\u001b[1;36m3\u001b[0m\u001b[1;33m)\u001b[0m\u001b[1;33m)\u001b[0m\u001b[1;33m\u001b[0m\u001b[1;33m\u001b[0m\u001b[0m\n\u001b[0;32m      4\u001b[0m \u001b[0mprint\u001b[0m\u001b[1;33m(\u001b[0m\u001b[1;34m'Spliting an array'\u001b[0m\u001b[1;33m,\u001b[0m\u001b[0mnp\u001b[0m\u001b[1;33m.\u001b[0m\u001b[0msplit\u001b[0m\u001b[1;33m(\u001b[0m\u001b[0my1\u001b[0m\u001b[1;33m,\u001b[0m\u001b[1;36m3\u001b[0m\u001b[1;33m)\u001b[0m\u001b[1;33m)\u001b[0m\u001b[1;33m\u001b[0m\u001b[1;33m\u001b[0m\u001b[0m\n\u001b[1;32m----> 5\u001b[1;33m \u001b[0mprint\u001b[0m\u001b[1;33m(\u001b[0m\u001b[1;34m'Spliting an array'\u001b[0m\u001b[1;33m,\u001b[0m\u001b[0mnp\u001b[0m\u001b[1;33m.\u001b[0m\u001b[0msplit\u001b[0m\u001b[1;33m(\u001b[0m\u001b[0my1\u001b[0m\u001b[1;33m,\u001b[0m\u001b[1;36m5\u001b[0m\u001b[1;33m)\u001b[0m\u001b[1;33m)\u001b[0m \u001b[1;31m# Split will not work here as for split will only work for equal size\u001b[0m\u001b[1;33m\u001b[0m\u001b[1;33m\u001b[0m\u001b[0m\n\u001b[0m\u001b[0;32m      6\u001b[0m \u001b[1;33m\u001b[0m\u001b[0m\n\u001b[0;32m      7\u001b[0m \u001b[1;31m# We can use hsplit, vsplit and dsplit also.\u001b[0m\u001b[1;33m\u001b[0m\u001b[1;33m\u001b[0m\u001b[1;33m\u001b[0m\u001b[0m\n",
      "\u001b[1;32m<__array_function__ internals>\u001b[0m in \u001b[0;36msplit\u001b[1;34m(*args, **kwargs)\u001b[0m\n",
      "\u001b[1;32me:\\app\\Python\\lib\\site-packages\\numpy\\lib\\shape_base.py\u001b[0m in \u001b[0;36msplit\u001b[1;34m(ary, indices_or_sections, axis)\u001b[0m\n\u001b[0;32m    871\u001b[0m         \u001b[1;32mif\u001b[0m \u001b[0mN\u001b[0m \u001b[1;33m%\u001b[0m \u001b[0msections\u001b[0m\u001b[1;33m:\u001b[0m\u001b[1;33m\u001b[0m\u001b[1;33m\u001b[0m\u001b[0m\n\u001b[0;32m    872\u001b[0m             raise ValueError(\n\u001b[1;32m--> 873\u001b[1;33m                 'array split does not result in an equal division') from None\n\u001b[0m\u001b[0;32m    874\u001b[0m     \u001b[1;32mreturn\u001b[0m \u001b[0marray_split\u001b[0m\u001b[1;33m(\u001b[0m\u001b[0mary\u001b[0m\u001b[1;33m,\u001b[0m \u001b[0mindices_or_sections\u001b[0m\u001b[1;33m,\u001b[0m \u001b[0maxis\u001b[0m\u001b[1;33m)\u001b[0m\u001b[1;33m\u001b[0m\u001b[1;33m\u001b[0m\u001b[0m\n\u001b[0;32m    875\u001b[0m \u001b[1;33m\u001b[0m\u001b[0m\n",
      "\u001b[1;31mValueError\u001b[0m: array split does not result in an equal division"
     ]
    }
   ],
   "source": [
    "# Spliting arrays \n",
    "# y1 = np.array([1, 2, 3, 4, 5, 6, 7, 8, 9, 10, 11, 12])\n",
    "print('Spliting an array',np.array_split(y1,3))\n",
    "print('Spliting an array',np.split(y1,3))\n",
    "print('Spliting an array',np.split(y1,5)) # Split will not work here as for split will only work for equal size \n",
    "\n",
    "# We can use hsplit, vsplit and dsplit also."
   ]
  },
  {
   "cell_type": "code",
   "execution_count": 10,
   "metadata": {},
   "outputs": [
    {
     "name": "stdout",
     "output_type": "stream",
     "text": [
      "Where element = 4: (array([ 3,  5, 13], dtype=int64),)\n",
      "Where elements are even: (array([ 1,  3,  5,  8, 10, 11, 13], dtype=int64),)\n",
      "Where elements are odd: (array([ 0,  2,  4,  6,  7,  9, 12], dtype=int64),)\n",
      "Where element = 7: 5\n",
      "Where element = 7: 5\n",
      "Where elements should be inserted: [5 5 5]\n"
     ]
    }
   ],
   "source": [
    "# Searching array\n",
    "# Using where\n",
    "z5 = np.array([1,2,3,4,5,4,5,3,6,7,8,2,5,4])\n",
    "print('Where element = 4:',np.where(z5 == 4))\n",
    "print('Where elements are even:',np.where(z5%2 == 0))\n",
    "print('Where elements are odd:',np.where(z5%2 == 1))\n",
    "\n",
    "# Using searchsorted\n",
    "print('Where element = 7:', np.searchsorted(arr, 7))\n",
    "print('Where element = 7:', np.searchsorted(arr, 7, side = 'right'))\n",
    "print('Where elements should be inserted:', np.searchsorted(arr, [6,7,8]))"
   ]
  },
  {
   "cell_type": "code",
   "execution_count": null,
   "metadata": {},
   "outputs": [],
   "source": []
  }
 ],
 "metadata": {
  "kernelspec": {
   "display_name": "Python 3",
   "language": "python",
   "name": "python3"
  },
  "language_info": {
   "codemirror_mode": {
    "name": "ipython",
    "version": 3
   },
   "file_extension": ".py",
   "mimetype": "text/x-python",
   "name": "python",
   "nbconvert_exporter": "python",
   "pygments_lexer": "ipython3",
   "version": "3.7.3"
  },
  "orig_nbformat": 4
 },
 "nbformat": 4,
 "nbformat_minor": 2
}
